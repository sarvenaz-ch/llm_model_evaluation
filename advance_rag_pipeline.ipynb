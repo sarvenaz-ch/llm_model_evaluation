{
 "cells": [
  {
   "cell_type": "code",
   "execution_count": 1,
   "id": "04d4b1d7-52ba-449f-8f95-e65b773f480f",
   "metadata": {},
   "outputs": [],
   "source": [
    "import os\n",
    "import openai"
   ]
  },
  {
   "cell_type": "code",
   "execution_count": 2,
   "id": "ff7b8f7c-23ef-455e-897f-32e19363b761",
   "metadata": {},
   "outputs": [],
   "source": [
    "from dotenv import load_dotenv\n",
    "load_dotenv()\n",
    "openai.api_key = os.getenv(\"OPENAI_API_KEY\")"
   ]
  },
  {
   "cell_type": "code",
   "execution_count": 3,
   "id": "41d5b6dd-354c-4fad-b0c6-bec6b634b358",
   "metadata": {},
   "outputs": [],
   "source": [
    "from openai import AsyncOpenAI"
   ]
  },
  {
   "cell_type": "code",
   "execution_count": 4,
   "id": "997fa856-50f0-449a-bab9-2db4d501459b",
   "metadata": {
    "scrolled": true
   },
   "outputs": [],
   "source": [
    "from llama_index import SimpleDirectoryReader\n",
    "\n",
    "docs = SimpleDirectoryReader(\n",
    "    input_files = [\"./ce-little-red-story-pcp-115014.pdf\"]\n",
    ").load_data() # one doc per page "
   ]
  },
  {
   "cell_type": "markdown",
   "id": "88f9f917-658f-4395-aaa8-59eb5dc1af52",
   "metadata": {},
   "source": [
    "# Basic RAG Pipeline"
   ]
  },
  {
   "cell_type": "code",
   "execution_count": 5,
   "id": "2b0c3a7a-1d71-452f-8dc3-c9578ec9d53c",
   "metadata": {},
   "outputs": [],
   "source": [
    "from llama_index import Document\n",
    "\n",
    "doc = Document(text = '\\n\\n'.join([doc.text for doc in docs])) #merge the docs into one doc"
   ]
  },
  {
   "cell_type": "code",
   "execution_count": 6,
   "id": "1ad0cce8-f8f5-4d60-af5b-14e257e667a2",
   "metadata": {},
   "outputs": [],
   "source": [
    "from llama_index import VectorStoreIndex\n",
    "from llama_index import ServiceContext\n",
    "from llama_index.llms import OpenAI\n",
    "\n",
    "llm = OpenAI(model = 'gpt-3.5-turbo', temperature = 0.1)\n",
    "service_context = ServiceContext.from_defaults(\n",
    "            llm = llm,\n",
    "            embed_model = 'local:BAAI/bge-small-en-v1.5' # hugging face model\n",
    ")\n",
    "index = VectorStoreIndex.from_documents([doc], service_context = service_context)"
   ]
  },
  {
   "cell_type": "code",
   "execution_count": 7,
   "id": "87b27c8f-3236-42d6-9ca4-b8ba24cb4580",
   "metadata": {},
   "outputs": [],
   "source": [
    "query_engine = index.as_query_engine() # send user query and compare it against data"
   ]
  },
  {
   "cell_type": "code",
   "execution_count": 8,
   "id": "381e2f76-b59b-47f7-9532-1681de4ac9a3",
   "metadata": {},
   "outputs": [],
   "source": [
    "response = query_engine.query(\n",
    "    'What is the story about?')"
   ]
  },
  {
   "cell_type": "code",
   "execution_count": 9,
   "id": "7750ab60-eeb7-47ab-83e4-cfbf21dbad76",
   "metadata": {},
   "outputs": [
    {
     "name": "stdout",
     "output_type": "stream",
     "text": [
      "The story is about a little girl named Little Red Riding Hood who is sent by her mother to take a basket of sweet cherry pies to her grandmother's house. Along the way, she encounters a thorn that traps her in her scarlet cloak. A mysterious figure helps her free from the thorn, but Little Red Riding Hood doesn't realize that it is the Big Bad Wolf. She continues on her journey and arrives at her grandmother's cottage, only to find that the wolf has already eaten her grandmother and disguised himself as her. Little Red Riding Hood realizes the truth and screams for help. The Wise Owl sends the Storyland Vets, who put the wolf to sleep and rescue the grandmother. In the end, the wolf is left with the grandmother's two pointy shoes inside him, which cause him discomfort whenever he feels hungry.\n"
     ]
    }
   ],
   "source": [
    "print(str(response))"
   ]
  },
  {
   "cell_type": "markdown",
   "id": "f6ce5fed-838d-4039-a2b0-73db83cbccb9",
   "metadata": {},
   "source": [
    "# Evaluating setup using TruLens"
   ]
  },
  {
   "cell_type": "markdown",
   "id": "d501c176-7ab4-4b5e-b528-c1fb133953e1",
   "metadata": {},
   "source": [
    "## a set of questions to evaluate the model against"
   ]
  },
  {
   "cell_type": "code",
   "execution_count": 10,
   "id": "79c76675-dd4d-4cc5-93ca-9195f3cd244d",
   "metadata": {},
   "outputs": [
    {
     "name": "stdout",
     "output_type": "stream",
     "text": [
      "What is the name of the main character?\n",
      "What was in Red Riding Hood basket?\n",
      "Whom did Red Riding Hood went to visit?\n",
      "Where did the grandma live?\n",
      "Who ate the grandma?\n",
      "Who helped Red Riding Hood to rescue the grandma?\n",
      "What happened to the wolf at the end?\n"
     ]
    }
   ],
   "source": [
    "eval_questions = []\n",
    "with open('eval_questions.txt', 'r') as file:\n",
    "    for line in file:\n",
    "        item = line.strip() #remove new line character and convert it to integer\n",
    "        print(item)\n",
    "        eval_questions.append(item)"
   ]
  },
  {
   "cell_type": "code",
   "execution_count": 11,
   "id": "c433164d-e464-4f7e-9907-e1a3fc1b5951",
   "metadata": {},
   "outputs": [
    {
     "data": {
      "text/plain": [
       "['What is the name of the main character?',\n",
       " 'What was in Red Riding Hood basket?',\n",
       " 'Whom did Red Riding Hood went to visit?',\n",
       " 'Where did the grandma live?',\n",
       " 'Who ate the grandma?',\n",
       " 'Who helped Red Riding Hood to rescue the grandma?',\n",
       " 'What happened to the wolf at the end?',\n",
       " 'what was the morale of the story?']"
      ]
     },
     "execution_count": 11,
     "metadata": {},
     "output_type": "execute_result"
    }
   ],
   "source": [
    "new_question = 'what was the morale of the story?'\n",
    "eval_questions.append(new_question)\n",
    "eval_questions"
   ]
  },
  {
   "cell_type": "markdown",
   "id": "21c2d13d-090c-465b-8d17-154278fe59c3",
   "metadata": {},
   "source": [
    "## Setting up the model"
   ]
  },
  {
   "cell_type": "code",
   "execution_count": 12,
   "id": "2b63f981-4cec-4cb3-a2b7-b63ddc019543",
   "metadata": {},
   "outputs": [
    {
     "name": "stdout",
     "output_type": "stream",
     "text": [
      "🦑 Tru initialized with db url sqlite:///default.sqlite .\n",
      "🛑 Secret keys may be written to the database. See the `database_redact_keys` option of `Tru` to prevent this.\n"
     ]
    }
   ],
   "source": [
    "from trulens_eval import Tru\n",
    "tru = Tru()\n",
    "\n",
    "tru.reset_database()"
   ]
  },
  {
   "cell_type": "code",
   "execution_count": 13,
   "id": "43ba04f5-9517-4b33-92d1-806fc48bf0b9",
   "metadata": {},
   "outputs": [
    {
     "name": "stdout",
     "output_type": "stream",
     "text": [
      "✅ In Answer Relevance, input prompt will be set to __record__.main_input or `Select.RecordInput` .\n",
      "✅ In Answer Relevance, input response will be set to __record__.main_output or `Select.RecordOutput` .\n",
      "✅ In Context Relevance, input prompt will be set to __record__.main_input or `Select.RecordInput` .\n",
      "✅ In Context Relevance, input response will be set to __record__.app.query.rets.source_nodes[:].node.text .\n",
      "✅ In Groundedness, input source will be set to __record__.app.query.rets.source_nodes[:].node.text .\n",
      "✅ In Groundedness, input statement will be set to __record__.main_output or `Select.RecordOutput` .\n"
     ]
    }
   ],
   "source": [
    "from utils_trulens import get_prebuilt_trulens_recorder\n",
    "tru_recorder = get_prebuilt_trulens_recorder(query_engine, app_id = 'Direct Query Engine')"
   ]
  },
  {
   "cell_type": "code",
   "execution_count": 14,
   "id": "e450b3c8-b39d-4fef-b880-d1f974753e2e",
   "metadata": {},
   "outputs": [],
   "source": [
    "with tru_recorder as recording:\n",
    "    for question in eval_questions:\n",
    "        response = query_engine.query(question)"
   ]
  },
  {
   "cell_type": "code",
   "execution_count": 15,
   "id": "c472b7aa-89fe-45a9-9788-dd7f76f02331",
   "metadata": {},
   "outputs": [],
   "source": [
    "records, feedback = tru.get_records_and_feedback(app_ids = [])"
   ]
  },
  {
   "cell_type": "code",
   "execution_count": 16,
   "id": "553a7b79-9808-4a19-aecc-3dd64d327589",
   "metadata": {},
   "outputs": [
    {
     "data": {
      "text/html": [
       "<div>\n",
       "<style scoped>\n",
       "    .dataframe tbody tr th:only-of-type {\n",
       "        vertical-align: middle;\n",
       "    }\n",
       "\n",
       "    .dataframe tbody tr th {\n",
       "        vertical-align: top;\n",
       "    }\n",
       "\n",
       "    .dataframe thead th {\n",
       "        text-align: right;\n",
       "    }\n",
       "</style>\n",
       "<table border=\"1\" class=\"dataframe\">\n",
       "  <thead>\n",
       "    <tr style=\"text-align: right;\">\n",
       "      <th></th>\n",
       "      <th>app_id</th>\n",
       "      <th>app_json</th>\n",
       "      <th>type</th>\n",
       "      <th>record_id</th>\n",
       "      <th>input</th>\n",
       "      <th>output</th>\n",
       "      <th>tags</th>\n",
       "      <th>record_json</th>\n",
       "      <th>cost_json</th>\n",
       "      <th>perf_json</th>\n",
       "      <th>ts</th>\n",
       "      <th>Answer Relevance</th>\n",
       "      <th>Context Relevance</th>\n",
       "      <th>Groundedness</th>\n",
       "      <th>Answer Relevance_calls</th>\n",
       "      <th>Context Relevance_calls</th>\n",
       "      <th>Groundedness_calls</th>\n",
       "      <th>latency</th>\n",
       "      <th>total_tokens</th>\n",
       "      <th>total_cost</th>\n",
       "    </tr>\n",
       "  </thead>\n",
       "  <tbody>\n",
       "    <tr>\n",
       "      <th>0</th>\n",
       "      <td>Direct Query Engine</td>\n",
       "      <td>{\"tru_class_info\": {\"name\": \"TruLlama\", \"modul...</td>\n",
       "      <td>RetrieverQueryEngine(llama_index.query_engine....</td>\n",
       "      <td>record_hash_2b3dee07675cc3ef7d46ae34a5c7dccf</td>\n",
       "      <td>\"What is the name of the main character?\"</td>\n",
       "      <td>\"The name of the main character is Little Red ...</td>\n",
       "      <td>-</td>\n",
       "      <td>{\"record_id\": \"record_hash_2b3dee07675cc3ef7d4...</td>\n",
       "      <td>{\"n_requests\": 1, \"n_successful_requests\": 1, ...</td>\n",
       "      <td>{\"start_time\": \"2023-12-21T11:49:30.209652\", \"...</td>\n",
       "      <td>2023-12-21T11:49:34.257887</td>\n",
       "      <td>1.0</td>\n",
       "      <td>0.0</td>\n",
       "      <td>1.0</td>\n",
       "      <td>[{'args': {'prompt': 'What is the name of the ...</td>\n",
       "      <td>[{'args': {'prompt': 'What is the name of the ...</td>\n",
       "      <td>[{'args': {'source': 'www.scholastic.co.ukhttp...</td>\n",
       "      <td>4</td>\n",
       "      <td>1124</td>\n",
       "      <td>0.001692</td>\n",
       "    </tr>\n",
       "    <tr>\n",
       "      <th>1</th>\n",
       "      <td>Direct Query Engine</td>\n",
       "      <td>{\"tru_class_info\": {\"name\": \"TruLlama\", \"modul...</td>\n",
       "      <td>RetrieverQueryEngine(llama_index.query_engine....</td>\n",
       "      <td>record_hash_9f0361836e93d14d61b93c29a8f6afdf</td>\n",
       "      <td>\"What was in Red Riding Hood basket?\"</td>\n",
       "      <td>\"A basket of sweet cherry pies was in Red Ridi...</td>\n",
       "      <td>-</td>\n",
       "      <td>{\"record_id\": \"record_hash_9f0361836e93d14d61b...</td>\n",
       "      <td>{\"n_requests\": 1, \"n_successful_requests\": 1, ...</td>\n",
       "      <td>{\"start_time\": \"2023-12-21T11:49:34.810574\", \"...</td>\n",
       "      <td>2023-12-21T11:49:38.955101</td>\n",
       "      <td>1.0</td>\n",
       "      <td>0.0</td>\n",
       "      <td>1.0</td>\n",
       "      <td>[{'args': {'prompt': 'What was in Red Riding H...</td>\n",
       "      <td>[{'args': {'prompt': 'What was in Red Riding H...</td>\n",
       "      <td>[{'args': {'source': 'www.scholastic.co.ukhttp...</td>\n",
       "      <td>4</td>\n",
       "      <td>1125</td>\n",
       "      <td>0.001695</td>\n",
       "    </tr>\n",
       "    <tr>\n",
       "      <th>2</th>\n",
       "      <td>Direct Query Engine</td>\n",
       "      <td>{\"tru_class_info\": {\"name\": \"TruLlama\", \"modul...</td>\n",
       "      <td>RetrieverQueryEngine(llama_index.query_engine....</td>\n",
       "      <td>record_hash_7bff025cb72caa23e964784eef13b580</td>\n",
       "      <td>\"Whom did Red Riding Hood went to visit?\"</td>\n",
       "      <td>\"Red Riding Hood went to visit her Grandma.\"</td>\n",
       "      <td>-</td>\n",
       "      <td>{\"record_id\": \"record_hash_7bff025cb72caa23e96...</td>\n",
       "      <td>{\"n_requests\": 1, \"n_successful_requests\": 1, ...</td>\n",
       "      <td>{\"start_time\": \"2023-12-21T11:49:39.378076\", \"...</td>\n",
       "      <td>2023-12-21T11:49:43.681415</td>\n",
       "      <td>1.0</td>\n",
       "      <td>0.0</td>\n",
       "      <td>1.0</td>\n",
       "      <td>[{'args': {'prompt': 'Whom did Red Riding Hood...</td>\n",
       "      <td>[{'args': {'prompt': 'Whom did Red Riding Hood...</td>\n",
       "      <td>[{'args': {'source': 'www.scholastic.co.ukhttp...</td>\n",
       "      <td>4</td>\n",
       "      <td>1122</td>\n",
       "      <td>0.001687</td>\n",
       "    </tr>\n",
       "    <tr>\n",
       "      <th>3</th>\n",
       "      <td>Direct Query Engine</td>\n",
       "      <td>{\"tru_class_info\": {\"name\": \"TruLlama\", \"modul...</td>\n",
       "      <td>RetrieverQueryEngine(llama_index.query_engine....</td>\n",
       "      <td>record_hash_43da5281542f73ae11f15260bb497b05</td>\n",
       "      <td>\"Where did the grandma live?\"</td>\n",
       "      <td>\"The grandma lived at the other end of Long-Lo...</td>\n",
       "      <td>-</td>\n",
       "      <td>{\"record_id\": \"record_hash_43da5281542f73ae11f...</td>\n",
       "      <td>{\"n_requests\": 1, \"n_successful_requests\": 1, ...</td>\n",
       "      <td>{\"start_time\": \"2023-12-21T11:49:44.584971\", \"...</td>\n",
       "      <td>2023-12-21T11:49:48.941005</td>\n",
       "      <td>1.0</td>\n",
       "      <td>0.0</td>\n",
       "      <td>1.0</td>\n",
       "      <td>[{'args': {'prompt': 'Where did the grandma li...</td>\n",
       "      <td>[{'args': {'prompt': 'Where did the grandma li...</td>\n",
       "      <td>[{'args': {'source': 'www.scholastic.co.ukhttp...</td>\n",
       "      <td>4</td>\n",
       "      <td>1130</td>\n",
       "      <td>0.001705</td>\n",
       "    </tr>\n",
       "    <tr>\n",
       "      <th>4</th>\n",
       "      <td>Direct Query Engine</td>\n",
       "      <td>{\"tru_class_info\": {\"name\": \"TruLlama\", \"modul...</td>\n",
       "      <td>RetrieverQueryEngine(llama_index.query_engine....</td>\n",
       "      <td>record_hash_1df5cb17c6496cfde3fb4c7cd6bad868</td>\n",
       "      <td>\"Who ate the grandma?\"</td>\n",
       "      <td>\"The Big Bad Wolf ate the grandma.\"</td>\n",
       "      <td>-</td>\n",
       "      <td>{\"record_id\": \"record_hash_1df5cb17c6496cfde3f...</td>\n",
       "      <td>{\"n_requests\": 1, \"n_successful_requests\": 1, ...</td>\n",
       "      <td>{\"start_time\": \"2023-12-21T11:49:49.385510\", \"...</td>\n",
       "      <td>2023-12-21T11:49:53.372515</td>\n",
       "      <td>1.0</td>\n",
       "      <td>0.0</td>\n",
       "      <td>1.0</td>\n",
       "      <td>[{'args': {'prompt': 'Who ate the grandma?', '...</td>\n",
       "      <td>[{'args': {'prompt': 'Who ate the grandma?', '...</td>\n",
       "      <td>[{'args': {'source': 'www.scholastic.co.ukhttp...</td>\n",
       "      <td>3</td>\n",
       "      <td>1116</td>\n",
       "      <td>0.001678</td>\n",
       "    </tr>\n",
       "  </tbody>\n",
       "</table>\n",
       "</div>"
      ],
      "text/plain": [
       "                app_id                                           app_json  \\\n",
       "0  Direct Query Engine  {\"tru_class_info\": {\"name\": \"TruLlama\", \"modul...   \n",
       "1  Direct Query Engine  {\"tru_class_info\": {\"name\": \"TruLlama\", \"modul...   \n",
       "2  Direct Query Engine  {\"tru_class_info\": {\"name\": \"TruLlama\", \"modul...   \n",
       "3  Direct Query Engine  {\"tru_class_info\": {\"name\": \"TruLlama\", \"modul...   \n",
       "4  Direct Query Engine  {\"tru_class_info\": {\"name\": \"TruLlama\", \"modul...   \n",
       "\n",
       "                                                type  \\\n",
       "0  RetrieverQueryEngine(llama_index.query_engine....   \n",
       "1  RetrieverQueryEngine(llama_index.query_engine....   \n",
       "2  RetrieverQueryEngine(llama_index.query_engine....   \n",
       "3  RetrieverQueryEngine(llama_index.query_engine....   \n",
       "4  RetrieverQueryEngine(llama_index.query_engine....   \n",
       "\n",
       "                                      record_id  \\\n",
       "0  record_hash_2b3dee07675cc3ef7d46ae34a5c7dccf   \n",
       "1  record_hash_9f0361836e93d14d61b93c29a8f6afdf   \n",
       "2  record_hash_7bff025cb72caa23e964784eef13b580   \n",
       "3  record_hash_43da5281542f73ae11f15260bb497b05   \n",
       "4  record_hash_1df5cb17c6496cfde3fb4c7cd6bad868   \n",
       "\n",
       "                                       input  \\\n",
       "0  \"What is the name of the main character?\"   \n",
       "1      \"What was in Red Riding Hood basket?\"   \n",
       "2  \"Whom did Red Riding Hood went to visit?\"   \n",
       "3              \"Where did the grandma live?\"   \n",
       "4                     \"Who ate the grandma?\"   \n",
       "\n",
       "                                              output tags  \\\n",
       "0  \"The name of the main character is Little Red ...    -   \n",
       "1  \"A basket of sweet cherry pies was in Red Ridi...    -   \n",
       "2       \"Red Riding Hood went to visit her Grandma.\"    -   \n",
       "3  \"The grandma lived at the other end of Long-Lo...    -   \n",
       "4                \"The Big Bad Wolf ate the grandma.\"    -   \n",
       "\n",
       "                                         record_json  \\\n",
       "0  {\"record_id\": \"record_hash_2b3dee07675cc3ef7d4...   \n",
       "1  {\"record_id\": \"record_hash_9f0361836e93d14d61b...   \n",
       "2  {\"record_id\": \"record_hash_7bff025cb72caa23e96...   \n",
       "3  {\"record_id\": \"record_hash_43da5281542f73ae11f...   \n",
       "4  {\"record_id\": \"record_hash_1df5cb17c6496cfde3f...   \n",
       "\n",
       "                                           cost_json  \\\n",
       "0  {\"n_requests\": 1, \"n_successful_requests\": 1, ...   \n",
       "1  {\"n_requests\": 1, \"n_successful_requests\": 1, ...   \n",
       "2  {\"n_requests\": 1, \"n_successful_requests\": 1, ...   \n",
       "3  {\"n_requests\": 1, \"n_successful_requests\": 1, ...   \n",
       "4  {\"n_requests\": 1, \"n_successful_requests\": 1, ...   \n",
       "\n",
       "                                           perf_json  \\\n",
       "0  {\"start_time\": \"2023-12-21T11:49:30.209652\", \"...   \n",
       "1  {\"start_time\": \"2023-12-21T11:49:34.810574\", \"...   \n",
       "2  {\"start_time\": \"2023-12-21T11:49:39.378076\", \"...   \n",
       "3  {\"start_time\": \"2023-12-21T11:49:44.584971\", \"...   \n",
       "4  {\"start_time\": \"2023-12-21T11:49:49.385510\", \"...   \n",
       "\n",
       "                           ts  Answer Relevance  Context Relevance  \\\n",
       "0  2023-12-21T11:49:34.257887               1.0                0.0   \n",
       "1  2023-12-21T11:49:38.955101               1.0                0.0   \n",
       "2  2023-12-21T11:49:43.681415               1.0                0.0   \n",
       "3  2023-12-21T11:49:48.941005               1.0                0.0   \n",
       "4  2023-12-21T11:49:53.372515               1.0                0.0   \n",
       "\n",
       "   Groundedness                             Answer Relevance_calls  \\\n",
       "0           1.0  [{'args': {'prompt': 'What is the name of the ...   \n",
       "1           1.0  [{'args': {'prompt': 'What was in Red Riding H...   \n",
       "2           1.0  [{'args': {'prompt': 'Whom did Red Riding Hood...   \n",
       "3           1.0  [{'args': {'prompt': 'Where did the grandma li...   \n",
       "4           1.0  [{'args': {'prompt': 'Who ate the grandma?', '...   \n",
       "\n",
       "                             Context Relevance_calls  \\\n",
       "0  [{'args': {'prompt': 'What is the name of the ...   \n",
       "1  [{'args': {'prompt': 'What was in Red Riding H...   \n",
       "2  [{'args': {'prompt': 'Whom did Red Riding Hood...   \n",
       "3  [{'args': {'prompt': 'Where did the grandma li...   \n",
       "4  [{'args': {'prompt': 'Who ate the grandma?', '...   \n",
       "\n",
       "                                  Groundedness_calls  latency  total_tokens  \\\n",
       "0  [{'args': {'source': 'www.scholastic.co.ukhttp...        4          1124   \n",
       "1  [{'args': {'source': 'www.scholastic.co.ukhttp...        4          1125   \n",
       "2  [{'args': {'source': 'www.scholastic.co.ukhttp...        4          1122   \n",
       "3  [{'args': {'source': 'www.scholastic.co.ukhttp...        4          1130   \n",
       "4  [{'args': {'source': 'www.scholastic.co.ukhttp...        3          1116   \n",
       "\n",
       "   total_cost  \n",
       "0    0.001692  \n",
       "1    0.001695  \n",
       "2    0.001687  \n",
       "3    0.001705  \n",
       "4    0.001678  "
      ]
     },
     "execution_count": 16,
     "metadata": {},
     "output_type": "execute_result"
    }
   ],
   "source": [
    "records.head()"
   ]
  },
  {
   "cell_type": "code",
   "execution_count": 17,
   "id": "91bfb4ca-fd7d-49e1-87c5-b3d3eab2fc9c",
   "metadata": {},
   "outputs": [
    {
     "data": {
      "text/html": [
       "<div>\n",
       "<style scoped>\n",
       "    .dataframe tbody tr th:only-of-type {\n",
       "        vertical-align: middle;\n",
       "    }\n",
       "\n",
       "    .dataframe tbody tr th {\n",
       "        vertical-align: top;\n",
       "    }\n",
       "\n",
       "    .dataframe thead th {\n",
       "        text-align: right;\n",
       "    }\n",
       "</style>\n",
       "<table border=\"1\" class=\"dataframe\">\n",
       "  <thead>\n",
       "    <tr style=\"text-align: right;\">\n",
       "      <th></th>\n",
       "      <th>Context Relevance</th>\n",
       "      <th>Groundedness</th>\n",
       "      <th>Answer Relevance</th>\n",
       "      <th>latency</th>\n",
       "      <th>total_cost</th>\n",
       "    </tr>\n",
       "    <tr>\n",
       "      <th>app_id</th>\n",
       "      <th></th>\n",
       "      <th></th>\n",
       "      <th></th>\n",
       "      <th></th>\n",
       "      <th></th>\n",
       "    </tr>\n",
       "  </thead>\n",
       "  <tbody>\n",
       "    <tr>\n",
       "      <th>Direct Query Engine</th>\n",
       "      <td>0.0</td>\n",
       "      <td>1.0</td>\n",
       "      <td>0.857143</td>\n",
       "      <td>4.0</td>\n",
       "      <td>0.001707</td>\n",
       "    </tr>\n",
       "  </tbody>\n",
       "</table>\n",
       "</div>"
      ],
      "text/plain": [
       "                     Context Relevance  Groundedness  Answer Relevance  \\\n",
       "app_id                                                                   \n",
       "Direct Query Engine                0.0           1.0          0.857143   \n",
       "\n",
       "                     latency  total_cost  \n",
       "app_id                                    \n",
       "Direct Query Engine      4.0    0.001707  "
      ]
     },
     "execution_count": 17,
     "metadata": {},
     "output_type": "execute_result"
    }
   ],
   "source": [
    "tru.get_leaderboard(app_ids = [])"
   ]
  },
  {
   "cell_type": "code",
   "execution_count": 18,
   "id": "dac0f1eb-a424-4107-9c7e-e806c9ac65aa",
   "metadata": {},
   "outputs": [
    {
     "name": "stdout",
     "output_type": "stream",
     "text": [
      "Starting dashboard ...\n",
      "Config file already exists. Skipping writing process.\n",
      "Credentials file already exists. Skipping writing process.\n"
     ]
    },
    {
     "data": {
      "application/vnd.jupyter.widget-view+json": {
       "model_id": "b7bfca29b5c7412eb5fc156d7a38a75e",
       "version_major": 2,
       "version_minor": 0
      },
      "text/plain": [
       "Accordion(children=(VBox(children=(VBox(children=(Label(value='STDOUT'), Output())), VBox(children=(Label(valu…"
      ]
     },
     "metadata": {},
     "output_type": "display_data"
    },
    {
     "name": "stdout",
     "output_type": "stream",
     "text": [
      "Dashboard started at http://localhost:8501 .\n"
     ]
    },
    {
     "data": {
      "text/plain": [
       "<Popen: returncode: None args: ['streamlit', 'run', '--server.headless=True'...>"
      ]
     },
     "execution_count": 18,
     "metadata": {},
     "output_type": "execute_result"
    }
   ],
   "source": [
    "tru.run_dashboard()"
   ]
  },
  {
   "cell_type": "markdown",
   "id": "5bc0719c-a116-4c22-a1df-925ad365601e",
   "metadata": {},
   "source": [
    "# Advanced RAG pipeline"
   ]
  },
  {
   "cell_type": "markdown",
   "id": "f2d2552f-1e26-4a59-9db4-005d5e9c14dd",
   "metadata": {},
   "source": [
    "## Sentence window retrieval"
   ]
  },
  {
   "cell_type": "code",
   "execution_count": 19,
   "id": "3ae6b7b2-83ab-49b2-b982-b9b21788afee",
   "metadata": {},
   "outputs": [],
   "source": [
    "from llama_index.llms import OpenAI\n",
    "\n",
    "llm = OpenAI(model = 'gpt-3.5-turbo', temperature = 0.1)"
   ]
  },
  {
   "cell_type": "code",
   "execution_count": 20,
   "id": "338fb581-d2d6-4498-b13d-2485efa35dad",
   "metadata": {},
   "outputs": [],
   "source": [
    "from utils_trulens import build_sentence_window_index\n",
    "# retreive multiple sentences instead of one\n",
    "sentence_index = build_sentence_window_index(\n",
    "    doc,\n",
    "    llm,\n",
    "    embed_model = 'local:BAAI/bge-small-en-v1.5',\n",
    "    save_dir = 'sentence_index'\n",
    ")"
   ]
  },
  {
   "cell_type": "code",
   "execution_count": 21,
   "id": "66060d1b-3169-4406-bd22-093d79c740f7",
   "metadata": {},
   "outputs": [],
   "source": [
    "from utils_trulens import get_sentence_window_query_engine\n",
    "sentence_window_engine = get_sentence_window_query_engine(sentence_index)"
   ]
  },
  {
   "cell_type": "code",
   "execution_count": 22,
   "id": "a1bbd170-da84-4ddb-926c-44888c745523",
   "metadata": {},
   "outputs": [
    {
     "name": "stdout",
     "output_type": "stream",
     "text": [
      "The morale of the story is to be cautious and not trust strangers, as they may have ulterior motives.\n"
     ]
    }
   ],
   "source": [
    "response = sentence_window_engine.query(\n",
    "    'what was the morale of the story?'\n",
    ")\n",
    "print(str(response))"
   ]
  },
  {
   "cell_type": "code",
   "execution_count": 23,
   "id": "aefef8eb-e31c-417b-a705-e64657cff56f",
   "metadata": {},
   "outputs": [
    {
     "name": "stdout",
     "output_type": "stream",
     "text": [
      "The morale of the story is to never stop and speak to the Big Bad Wolf.\n"
     ]
    }
   ],
   "source": [
    "response = query_engine.query(\n",
    "    'what was the morale of the story?'\n",
    ")\n",
    "print(str(response))"
   ]
  },
  {
   "cell_type": "code",
   "execution_count": 24,
   "id": "1a6150c9-9591-46e6-b7a3-8af8ed70c267",
   "metadata": {},
   "outputs": [],
   "source": [
    "tru.reset_database()\n",
    "\n",
    "tru_recorder_sentence_window = get_prebuilt_trulens_recorder(\n",
    "    sentence_window_engine,\n",
    "    app_id = 'Sentence window query engine'\n",
    ")"
   ]
  },
  {
   "cell_type": "code",
   "execution_count": 25,
   "id": "5e1f2034-d859-46c4-80d6-41a98218ede0",
   "metadata": {},
   "outputs": [
    {
     "name": "stdout",
     "output_type": "stream",
     "text": [
      "What is the name of the main character?\n",
      "Little Red Riding Hood\n",
      "What was in Red Riding Hood basket?\n",
      "Sweet cherry pies.\n",
      "Whom did Red Riding Hood went to visit?\n",
      "Red Riding Hood went to visit her Grandma.\n",
      "Where did the grandma live?\n",
      "The grandma lived in a cottage.\n",
      "Who ate the grandma?\n",
      "The Big Bad Wolf ate the grandma.\n",
      "Who helped Red Riding Hood to rescue the grandma?\n",
      "There is no information provided in the given context about who helped Red Riding Hood rescue her grandma.\n",
      "What happened to the wolf at the end?\n",
      "The wolf was sewn up again after the Storyland Vets found Grandma safe and well inside his tummy. However, they accidentally left her two pointy shoes inside him.\n",
      "what was the morale of the story?\n",
      "The moral of the story is to be cautious and not talk to strangers.\n"
     ]
    }
   ],
   "source": [
    "for question in eval_questions:\n",
    "    with tru_recorder_sentence_window as recording:\n",
    "        response = sentence_window_engine.query(question)\n",
    "        print(question)\n",
    "        print(str(response))"
   ]
  },
  {
   "cell_type": "code",
   "execution_count": 26,
   "id": "df124ee2-a1cb-46d3-b605-979c21c50200",
   "metadata": {},
   "outputs": [
    {
     "data": {
      "text/html": [
       "<div>\n",
       "<style scoped>\n",
       "    .dataframe tbody tr th:only-of-type {\n",
       "        vertical-align: middle;\n",
       "    }\n",
       "\n",
       "    .dataframe tbody tr th {\n",
       "        vertical-align: top;\n",
       "    }\n",
       "\n",
       "    .dataframe thead th {\n",
       "        text-align: right;\n",
       "    }\n",
       "</style>\n",
       "<table border=\"1\" class=\"dataframe\">\n",
       "  <thead>\n",
       "    <tr style=\"text-align: right;\">\n",
       "      <th></th>\n",
       "      <th>Context Relevance</th>\n",
       "      <th>Groundedness</th>\n",
       "      <th>Answer Relevance</th>\n",
       "      <th>latency</th>\n",
       "      <th>total_cost</th>\n",
       "    </tr>\n",
       "    <tr>\n",
       "      <th>app_id</th>\n",
       "      <th></th>\n",
       "      <th></th>\n",
       "      <th></th>\n",
       "      <th></th>\n",
       "      <th></th>\n",
       "    </tr>\n",
       "  </thead>\n",
       "  <tbody>\n",
       "    <tr>\n",
       "      <th>Sentence window query engine</th>\n",
       "      <td>0.071429</td>\n",
       "      <td>0.833333</td>\n",
       "      <td>0.885714</td>\n",
       "      <td>4.875</td>\n",
       "      <td>0.000603</td>\n",
       "    </tr>\n",
       "  </tbody>\n",
       "</table>\n",
       "</div>"
      ],
      "text/plain": [
       "                              Context Relevance  Groundedness  \\\n",
       "app_id                                                          \n",
       "Sentence window query engine           0.071429      0.833333   \n",
       "\n",
       "                              Answer Relevance  latency  total_cost  \n",
       "app_id                                                               \n",
       "Sentence window query engine          0.885714    4.875    0.000603  "
      ]
     },
     "execution_count": 26,
     "metadata": {},
     "output_type": "execute_result"
    }
   ],
   "source": [
    "tru.get_leaderboard(app_ids = [])"
   ]
  },
  {
   "cell_type": "markdown",
   "id": "04584d5f-b886-4949-98ea-6cd3c30e078a",
   "metadata": {},
   "source": [
    "## Auto_merging retrieval"
   ]
  },
  {
   "cell_type": "code",
   "execution_count": 28,
   "id": "b8f7523a-20c7-4958-a893-f90980da39cd",
   "metadata": {},
   "outputs": [],
   "source": [
    "from utils_trulens import build_automerging_index\n",
    "\n",
    "automerging_index = build_automerging_index(\n",
    "        docs,\n",
    "        llm,\n",
    "        embed_model=\"local:BAAI/bge-small-en-v1.5\",\n",
    "        save_dir=\"merging_index\"\n",
    "        )"
   ]
  },
  {
   "cell_type": "code",
   "execution_count": 29,
   "id": "c199e08f-06e2-4145-b754-8fcfd15e9eed",
   "metadata": {},
   "outputs": [],
   "source": [
    "from utils_trulens import get_automerging_query_engine\n",
    "automerging_query_engine = get_automerging_query_engine(\n",
    "    automerging_index\n",
    ")"
   ]
  },
  {
   "cell_type": "code",
   "execution_count": 30,
   "id": "4ca21b4b-fc98-4d2e-b85a-0c04eaab25af",
   "metadata": {
    "scrolled": true
   },
   "outputs": [
    {
     "name": "stdout",
     "output_type": "stream",
     "text": [
      "> Merging 4 nodes into parent node.\n",
      "> Parent node id: 5e1e21cd-474e-425b-8054-46fc312af0ca.\n",
      "> Parent node text: www.scholastic.co.ukhttp://www.scholastic.co.uk/\n",
      " “Grandma”, gasped Little Red Riding Hood. “What...\n",
      "\n",
      "> Merging 2 nodes into parent node.\n",
      "> Parent node id: d8868ccb-da68-470e-b752-b6544fdbe3fe.\n",
      "> Parent node text: “Let me in, Grandma,” she called merrily. “I have brought you a basket of sweet cherry pies.”\n",
      " “L...\n",
      "\n",
      "> Merging 5 nodes into parent node.\n",
      "> Parent node id: 374b0bb9-3339-43c0-904e-5eff4ace2d9a.\n",
      "> Parent node text: www.scholastic.co.ukhttp://www.scholastic.co.uk/\n",
      "Fairytale Kingdom\n",
      "The Story of Little Red Riding...\n",
      "\n",
      "> Merging 1 nodes into parent node.\n",
      "> Parent node id: daeae9c7-0679-4091-aabd-c4296e87d252.\n",
      "> Parent node text: www.scholastic.co.ukhttp://www.scholastic.co.uk/\n",
      " “Grandma”, gasped Little Red Riding Hood. “What...\n",
      "\n",
      "> Merging 2 nodes into parent node.\n",
      "> Parent node id: 7cf2567c-9525-419a-8072-d6efb6cf9895.\n",
      "> Parent node text: www.scholastic.co.ukhttp://www.scholastic.co.uk/\n",
      "Fairytale Kingdom\n",
      "The Story of Little Red Riding...\n",
      "\n",
      "The moral of the story is to never stop and speak to the Big Bad Wolf.\n"
     ]
    }
   ],
   "source": [
    "response = automerging_query_engine .query(\n",
    "    'what was the morale of the story?'\n",
    ")\n",
    "print(str(response))"
   ]
  },
  {
   "cell_type": "code",
   "execution_count": 31,
   "id": "6842e795-98b3-4f91-8980-d7d19788710e",
   "metadata": {},
   "outputs": [],
   "source": [
    "tru.reset_database()\n",
    "\n",
    "tru_recorder_automerging = get_prebuilt_trulens_recorder(automerging_query_engine,\n",
    "                                                         app_id=\"Automerging Query Engine\")"
   ]
  },
  {
   "cell_type": "code",
   "execution_count": 32,
   "id": "2a06d719-3de8-43dd-83b7-4e0309fe839c",
   "metadata": {},
   "outputs": [
    {
     "name": "stderr",
     "output_type": "stream",
     "text": [
      "A new object of type <class 'llama_index.query_engine.retriever_query_engine.RetrieverQueryEngine'> at 0x21f2f52d750 is calling an instrumented method <function BaseQueryEngine.query at 0x0000021F100F7C70>. The path of this call may be incorrect.\n",
      "Guessing path of new object is app based on other object (0x21f28e3ea10) using this function.\n",
      "A new object of type <class 'llama_index.query_engine.retriever_query_engine.RetrieverQueryEngine'> at 0x21f2f52d750 is calling an instrumented method <function RetrieverQueryEngine.retrieve at 0x0000021F138E5900>. The path of this call may be incorrect.\n",
      "Guessing path of new object is app based on other object (0x21f28e3ea10) using this function.\n",
      "A new object of type <class 'llama_index.retrievers.auto_merging_retriever.AutoMergingRetriever'> at 0x21f2f52feb0 is calling an instrumented method <function BaseRetriever.retrieve at 0x0000021F100F6EF0>. The path of this call may be incorrect.\n",
      "Guessing path of new object is app.retriever based on other object (0x21f236663e0) using this function.\n",
      "A new object of type <class 'llama_index.indices.vector_store.retrievers.retriever.VectorIndexRetriever'> at 0x21f2b6a10f0 is calling an instrumented method <function BaseRetriever.retrieve at 0x0000021F100F6EF0>. The path of this call may be incorrect.\n",
      "Guessing path of new object is app.retriever based on other object (0x21f236663e0) using this function.\n",
      "A new object of type <class 'llama_index.vector_stores.simple.SimpleVectorStore'> at 0x21f2f52c730 is calling an instrumented method <function SimpleVectorStore.query at 0x0000021F10DBB520>. The path of this call may be incorrect.\n",
      "Guessing path of new object is app.retriever._index.storage_context.vector_stores.default based on other object (0x21f2383b490) using this function.\n"
     ]
    },
    {
     "name": "stdout",
     "output_type": "stream",
     "text": [
      "> Merging 5 nodes into parent node.\n",
      "> Parent node id: 374b0bb9-3339-43c0-904e-5eff4ace2d9a.\n",
      "> Parent node text: www.scholastic.co.ukhttp://www.scholastic.co.uk/\n",
      "Fairytale Kingdom\n",
      "The Story of Little Red Riding...\n",
      "\n",
      "> Merging 4 nodes into parent node.\n",
      "> Parent node id: 5e1e21cd-474e-425b-8054-46fc312af0ca.\n",
      "> Parent node text: www.scholastic.co.ukhttp://www.scholastic.co.uk/\n",
      " “Grandma”, gasped Little Red Riding Hood. “What...\n",
      "\n",
      "> Merging 2 nodes into parent node.\n",
      "> Parent node id: d8868ccb-da68-470e-b752-b6544fdbe3fe.\n",
      "> Parent node text: “Let me in, Grandma,” she called merrily. “I have brought you a basket of sweet cherry pies.”\n",
      " “L...\n",
      "\n",
      "> Merging 2 nodes into parent node.\n",
      "> Parent node id: 7cf2567c-9525-419a-8072-d6efb6cf9895.\n",
      "> Parent node text: www.scholastic.co.ukhttp://www.scholastic.co.uk/\n",
      "Fairytale Kingdom\n",
      "The Story of Little Red Riding...\n",
      "\n",
      "> Merging 1 nodes into parent node.\n",
      "> Parent node id: daeae9c7-0679-4091-aabd-c4296e87d252.\n",
      "> Parent node text: www.scholastic.co.ukhttp://www.scholastic.co.uk/\n",
      " “Grandma”, gasped Little Red Riding Hood. “What...\n",
      "\n"
     ]
    },
    {
     "name": "stderr",
     "output_type": "stream",
     "text": [
      "A new object of type <class 'llama_index.response_synthesizers.compact_and_refine.CompactAndRefine'> at 0x21f2f52d780 is calling an instrumented method <function BaseSynthesizer.synthesize at 0x0000021F10DE5B40>. The path of this call may be incorrect.\n",
      "Guessing path of new object is app._response_synthesizer based on other object (0x21f23665ff0) using this function.\n",
      "A new object of type <class 'llama_index.response_synthesizers.compact_and_refine.CompactAndRefine'> at 0x21f2f52d780 is calling an instrumented method <function CompactAndRefine.get_response at 0x0000021F10DE5000>. The path of this call may be incorrect.\n",
      "Guessing path of new object is app._response_synthesizer based on other object (0x21f23665ff0) using this function.\n",
      "A new object of type <class 'llama_index.response_synthesizers.compact_and_refine.CompactAndRefine'> at 0x21f2f52d780 is calling an instrumented method <function Refine.get_response at 0x0000021F1173DC60>. The path of this call may be incorrect.\n",
      "Guessing path of new object is app._response_synthesizer based on other object (0x21f23665ff0) using this function.\n"
     ]
    },
    {
     "name": "stdout",
     "output_type": "stream",
     "text": [
      "What is the name of the main character?\n",
      "The main character's name is Little Red Riding Hood.\n"
     ]
    },
    {
     "name": "stderr",
     "output_type": "stream",
     "text": [
      "A new object of type <class 'llama_index.query_engine.retriever_query_engine.RetrieverQueryEngine'> at 0x21f2f52d750 is calling an instrumented method <function RetrieverQueryEngine.retrieve at 0x0000021F138E5900>. The path of this call may be incorrect.\n",
      "Guessing path of new object is app based on other object (0x21f28e3ea10) using this function.\n"
     ]
    },
    {
     "name": "stdout",
     "output_type": "stream",
     "text": [
      "> Merging 5 nodes into parent node.\n",
      "> Parent node id: 374b0bb9-3339-43c0-904e-5eff4ace2d9a.\n",
      "> Parent node text: www.scholastic.co.ukhttp://www.scholastic.co.uk/\n",
      "Fairytale Kingdom\n",
      "The Story of Little Red Riding...\n",
      "\n",
      "> Merging 4 nodes into parent node.\n",
      "> Parent node id: 5e1e21cd-474e-425b-8054-46fc312af0ca.\n",
      "> Parent node text: www.scholastic.co.ukhttp://www.scholastic.co.uk/\n",
      " “Grandma”, gasped Little Red Riding Hood. “What...\n",
      "\n",
      "> Merging 2 nodes into parent node.\n",
      "> Parent node id: d8868ccb-da68-470e-b752-b6544fdbe3fe.\n",
      "> Parent node text: “Let me in, Grandma,” she called merrily. “I have brought you a basket of sweet cherry pies.”\n",
      " “L...\n",
      "\n",
      "> Merging 2 nodes into parent node.\n",
      "> Parent node id: 7cf2567c-9525-419a-8072-d6efb6cf9895.\n",
      "> Parent node text: www.scholastic.co.ukhttp://www.scholastic.co.uk/\n",
      "Fairytale Kingdom\n",
      "The Story of Little Red Riding...\n",
      "\n",
      "> Merging 1 nodes into parent node.\n",
      "> Parent node id: daeae9c7-0679-4091-aabd-c4296e87d252.\n",
      "> Parent node text: www.scholastic.co.ukhttp://www.scholastic.co.uk/\n",
      " “Grandma”, gasped Little Red Riding Hood. “What...\n",
      "\n"
     ]
    },
    {
     "name": "stderr",
     "output_type": "stream",
     "text": [
      "A new object of type <class 'llama_index.response_synthesizers.compact_and_refine.CompactAndRefine'> at 0x21f2f52d780 is calling an instrumented method <function CompactAndRefine.get_response at 0x0000021F10DE5000>. The path of this call may be incorrect.\n",
      "Guessing path of new object is app._response_synthesizer based on other object (0x21f23665ff0) using this function.\n",
      "A new object of type <class 'llama_index.response_synthesizers.compact_and_refine.CompactAndRefine'> at 0x21f2f52d780 is calling an instrumented method <function Refine.get_response at 0x0000021F1173DC60>. The path of this call may be incorrect.\n",
      "Guessing path of new object is app._response_synthesizer based on other object (0x21f23665ff0) using this function.\n"
     ]
    },
    {
     "name": "stdout",
     "output_type": "stream",
     "text": [
      "What was in Red Riding Hood basket?\n",
      "A basket of sweet cherry pies was in Red Riding Hood's basket.\n"
     ]
    },
    {
     "name": "stderr",
     "output_type": "stream",
     "text": [
      "A new object of type <class 'llama_index.query_engine.retriever_query_engine.RetrieverQueryEngine'> at 0x21f2f52d750 is calling an instrumented method <function RetrieverQueryEngine.retrieve at 0x0000021F138E5900>. The path of this call may be incorrect.\n",
      "Guessing path of new object is app based on other object (0x21f28e3ea10) using this function.\n"
     ]
    },
    {
     "name": "stdout",
     "output_type": "stream",
     "text": [
      "> Merging 5 nodes into parent node.\n",
      "> Parent node id: 374b0bb9-3339-43c0-904e-5eff4ace2d9a.\n",
      "> Parent node text: www.scholastic.co.ukhttp://www.scholastic.co.uk/\n",
      "Fairytale Kingdom\n",
      "The Story of Little Red Riding...\n",
      "\n",
      "> Merging 4 nodes into parent node.\n",
      "> Parent node id: 5e1e21cd-474e-425b-8054-46fc312af0ca.\n",
      "> Parent node text: www.scholastic.co.ukhttp://www.scholastic.co.uk/\n",
      " “Grandma”, gasped Little Red Riding Hood. “What...\n",
      "\n",
      "> Merging 2 nodes into parent node.\n",
      "> Parent node id: d8868ccb-da68-470e-b752-b6544fdbe3fe.\n",
      "> Parent node text: “Let me in, Grandma,” she called merrily. “I have brought you a basket of sweet cherry pies.”\n",
      " “L...\n",
      "\n",
      "> Merging 2 nodes into parent node.\n",
      "> Parent node id: 7cf2567c-9525-419a-8072-d6efb6cf9895.\n",
      "> Parent node text: www.scholastic.co.ukhttp://www.scholastic.co.uk/\n",
      "Fairytale Kingdom\n",
      "The Story of Little Red Riding...\n",
      "\n",
      "> Merging 1 nodes into parent node.\n",
      "> Parent node id: daeae9c7-0679-4091-aabd-c4296e87d252.\n",
      "> Parent node text: www.scholastic.co.ukhttp://www.scholastic.co.uk/\n",
      " “Grandma”, gasped Little Red Riding Hood. “What...\n",
      "\n"
     ]
    },
    {
     "name": "stderr",
     "output_type": "stream",
     "text": [
      "A new object of type <class 'llama_index.response_synthesizers.compact_and_refine.CompactAndRefine'> at 0x21f2f52d780 is calling an instrumented method <function CompactAndRefine.get_response at 0x0000021F10DE5000>. The path of this call may be incorrect.\n",
      "Guessing path of new object is app._response_synthesizer based on other object (0x21f23665ff0) using this function.\n",
      "A new object of type <class 'llama_index.response_synthesizers.compact_and_refine.CompactAndRefine'> at 0x21f2f52d780 is calling an instrumented method <function Refine.get_response at 0x0000021F1173DC60>. The path of this call may be incorrect.\n",
      "Guessing path of new object is app._response_synthesizer based on other object (0x21f23665ff0) using this function.\n"
     ]
    },
    {
     "name": "stdout",
     "output_type": "stream",
     "text": [
      "Whom did Red Riding Hood went to visit?\n",
      "Red Riding Hood went to visit her Grandma.\n"
     ]
    },
    {
     "name": "stderr",
     "output_type": "stream",
     "text": [
      "A new object of type <class 'llama_index.query_engine.retriever_query_engine.RetrieverQueryEngine'> at 0x21f2f52d750 is calling an instrumented method <function RetrieverQueryEngine.retrieve at 0x0000021F138E5900>. The path of this call may be incorrect.\n",
      "Guessing path of new object is app based on other object (0x21f28e3ea10) using this function.\n"
     ]
    },
    {
     "name": "stdout",
     "output_type": "stream",
     "text": [
      "> Merging 5 nodes into parent node.\n",
      "> Parent node id: 374b0bb9-3339-43c0-904e-5eff4ace2d9a.\n",
      "> Parent node text: www.scholastic.co.ukhttp://www.scholastic.co.uk/\n",
      "Fairytale Kingdom\n",
      "The Story of Little Red Riding...\n",
      "\n",
      "> Merging 2 nodes into parent node.\n",
      "> Parent node id: d8868ccb-da68-470e-b752-b6544fdbe3fe.\n",
      "> Parent node text: “Let me in, Grandma,” she called merrily. “I have brought you a basket of sweet cherry pies.”\n",
      " “L...\n",
      "\n",
      "> Merging 4 nodes into parent node.\n",
      "> Parent node id: 5e1e21cd-474e-425b-8054-46fc312af0ca.\n",
      "> Parent node text: www.scholastic.co.ukhttp://www.scholastic.co.uk/\n",
      " “Grandma”, gasped Little Red Riding Hood. “What...\n",
      "\n",
      "> Merging 2 nodes into parent node.\n",
      "> Parent node id: 7cf2567c-9525-419a-8072-d6efb6cf9895.\n",
      "> Parent node text: www.scholastic.co.ukhttp://www.scholastic.co.uk/\n",
      "Fairytale Kingdom\n",
      "The Story of Little Red Riding...\n",
      "\n",
      "> Merging 1 nodes into parent node.\n",
      "> Parent node id: daeae9c7-0679-4091-aabd-c4296e87d252.\n",
      "> Parent node text: www.scholastic.co.ukhttp://www.scholastic.co.uk/\n",
      " “Grandma”, gasped Little Red Riding Hood. “What...\n",
      "\n"
     ]
    },
    {
     "name": "stderr",
     "output_type": "stream",
     "text": [
      "A new object of type <class 'llama_index.response_synthesizers.compact_and_refine.CompactAndRefine'> at 0x21f2f52d780 is calling an instrumented method <function CompactAndRefine.get_response at 0x0000021F10DE5000>. The path of this call may be incorrect.\n",
      "Guessing path of new object is app._response_synthesizer based on other object (0x21f23665ff0) using this function.\n",
      "A new object of type <class 'llama_index.response_synthesizers.compact_and_refine.CompactAndRefine'> at 0x21f2f52d780 is calling an instrumented method <function Refine.get_response at 0x0000021F1173DC60>. The path of this call may be incorrect.\n",
      "Guessing path of new object is app._response_synthesizer based on other object (0x21f23665ff0) using this function.\n"
     ]
    },
    {
     "name": "stdout",
     "output_type": "stream",
     "text": [
      "Where did the grandma live?\n",
      "The grandma lived at the other end of Long-Lost Wood, in the cottage with a green door.\n"
     ]
    },
    {
     "name": "stderr",
     "output_type": "stream",
     "text": [
      "A new object of type <class 'llama_index.query_engine.retriever_query_engine.RetrieverQueryEngine'> at 0x21f2f52d750 is calling an instrumented method <function RetrieverQueryEngine.retrieve at 0x0000021F138E5900>. The path of this call may be incorrect.\n",
      "Guessing path of new object is app based on other object (0x21f28e3ea10) using this function.\n"
     ]
    },
    {
     "name": "stdout",
     "output_type": "stream",
     "text": [
      "> Merging 4 nodes into parent node.\n",
      "> Parent node id: 5e1e21cd-474e-425b-8054-46fc312af0ca.\n",
      "> Parent node text: www.scholastic.co.ukhttp://www.scholastic.co.uk/\n",
      " “Grandma”, gasped Little Red Riding Hood. “What...\n",
      "\n",
      "> Merging 5 nodes into parent node.\n",
      "> Parent node id: 374b0bb9-3339-43c0-904e-5eff4ace2d9a.\n",
      "> Parent node text: www.scholastic.co.ukhttp://www.scholastic.co.uk/\n",
      "Fairytale Kingdom\n",
      "The Story of Little Red Riding...\n",
      "\n",
      "> Merging 2 nodes into parent node.\n",
      "> Parent node id: d8868ccb-da68-470e-b752-b6544fdbe3fe.\n",
      "> Parent node text: “Let me in, Grandma,” she called merrily. “I have brought you a basket of sweet cherry pies.”\n",
      " “L...\n",
      "\n",
      "> Merging 1 nodes into parent node.\n",
      "> Parent node id: daeae9c7-0679-4091-aabd-c4296e87d252.\n",
      "> Parent node text: www.scholastic.co.ukhttp://www.scholastic.co.uk/\n",
      " “Grandma”, gasped Little Red Riding Hood. “What...\n",
      "\n",
      "> Merging 2 nodes into parent node.\n",
      "> Parent node id: 7cf2567c-9525-419a-8072-d6efb6cf9895.\n",
      "> Parent node text: www.scholastic.co.ukhttp://www.scholastic.co.uk/\n",
      "Fairytale Kingdom\n",
      "The Story of Little Red Riding...\n",
      "\n"
     ]
    },
    {
     "name": "stderr",
     "output_type": "stream",
     "text": [
      "A new object of type <class 'llama_index.response_synthesizers.compact_and_refine.CompactAndRefine'> at 0x21f2f52d780 is calling an instrumented method <function CompactAndRefine.get_response at 0x0000021F10DE5000>. The path of this call may be incorrect.\n",
      "Guessing path of new object is app._response_synthesizer based on other object (0x21f23665ff0) using this function.\n",
      "A new object of type <class 'llama_index.response_synthesizers.compact_and_refine.CompactAndRefine'> at 0x21f2f52d780 is calling an instrumented method <function Refine.get_response at 0x0000021F1173DC60>. The path of this call may be incorrect.\n",
      "Guessing path of new object is app._response_synthesizer based on other object (0x21f23665ff0) using this function.\n"
     ]
    },
    {
     "name": "stdout",
     "output_type": "stream",
     "text": [
      "Who ate the grandma?\n",
      "The Big Bad Wolf ate the grandma.\n"
     ]
    },
    {
     "name": "stderr",
     "output_type": "stream",
     "text": [
      "A new object of type <class 'llama_index.query_engine.retriever_query_engine.RetrieverQueryEngine'> at 0x21f2f52d750 is calling an instrumented method <function RetrieverQueryEngine.retrieve at 0x0000021F138E5900>. The path of this call may be incorrect.\n",
      "Guessing path of new object is app based on other object (0x21f28e3ea10) using this function.\n"
     ]
    },
    {
     "name": "stdout",
     "output_type": "stream",
     "text": [
      "> Merging 5 nodes into parent node.\n",
      "> Parent node id: 374b0bb9-3339-43c0-904e-5eff4ace2d9a.\n",
      "> Parent node text: www.scholastic.co.ukhttp://www.scholastic.co.uk/\n",
      "Fairytale Kingdom\n",
      "The Story of Little Red Riding...\n",
      "\n",
      "> Merging 4 nodes into parent node.\n",
      "> Parent node id: 5e1e21cd-474e-425b-8054-46fc312af0ca.\n",
      "> Parent node text: www.scholastic.co.ukhttp://www.scholastic.co.uk/\n",
      " “Grandma”, gasped Little Red Riding Hood. “What...\n",
      "\n",
      "> Merging 2 nodes into parent node.\n",
      "> Parent node id: d8868ccb-da68-470e-b752-b6544fdbe3fe.\n",
      "> Parent node text: “Let me in, Grandma,” she called merrily. “I have brought you a basket of sweet cherry pies.”\n",
      " “L...\n",
      "\n",
      "> Merging 2 nodes into parent node.\n",
      "> Parent node id: 7cf2567c-9525-419a-8072-d6efb6cf9895.\n",
      "> Parent node text: www.scholastic.co.ukhttp://www.scholastic.co.uk/\n",
      "Fairytale Kingdom\n",
      "The Story of Little Red Riding...\n",
      "\n",
      "> Merging 1 nodes into parent node.\n",
      "> Parent node id: daeae9c7-0679-4091-aabd-c4296e87d252.\n",
      "> Parent node text: www.scholastic.co.ukhttp://www.scholastic.co.uk/\n",
      " “Grandma”, gasped Little Red Riding Hood. “What...\n",
      "\n"
     ]
    },
    {
     "name": "stderr",
     "output_type": "stream",
     "text": [
      "A new object of type <class 'llama_index.response_synthesizers.compact_and_refine.CompactAndRefine'> at 0x21f2f52d780 is calling an instrumented method <function CompactAndRefine.get_response at 0x0000021F10DE5000>. The path of this call may be incorrect.\n",
      "Guessing path of new object is app._response_synthesizer based on other object (0x21f23665ff0) using this function.\n",
      "A new object of type <class 'llama_index.response_synthesizers.compact_and_refine.CompactAndRefine'> at 0x21f2f52d780 is calling an instrumented method <function Refine.get_response at 0x0000021F1173DC60>. The path of this call may be incorrect.\n",
      "Guessing path of new object is app._response_synthesizer based on other object (0x21f23665ff0) using this function.\n"
     ]
    },
    {
     "name": "stdout",
     "output_type": "stream",
     "text": [
      "Who helped Red Riding Hood to rescue the grandma?\n",
      "The Wise Owl helped Red Riding Hood to rescue the grandma.\n"
     ]
    },
    {
     "name": "stderr",
     "output_type": "stream",
     "text": [
      "A new object of type <class 'llama_index.query_engine.retriever_query_engine.RetrieverQueryEngine'> at 0x21f2f52d750 is calling an instrumented method <function RetrieverQueryEngine.retrieve at 0x0000021F138E5900>. The path of this call may be incorrect.\n",
      "Guessing path of new object is app based on other object (0x21f28e3ea10) using this function.\n"
     ]
    },
    {
     "name": "stdout",
     "output_type": "stream",
     "text": [
      "> Merging 4 nodes into parent node.\n",
      "> Parent node id: 5e1e21cd-474e-425b-8054-46fc312af0ca.\n",
      "> Parent node text: www.scholastic.co.ukhttp://www.scholastic.co.uk/\n",
      " “Grandma”, gasped Little Red Riding Hood. “What...\n",
      "\n",
      "> Merging 5 nodes into parent node.\n",
      "> Parent node id: 374b0bb9-3339-43c0-904e-5eff4ace2d9a.\n",
      "> Parent node text: www.scholastic.co.ukhttp://www.scholastic.co.uk/\n",
      "Fairytale Kingdom\n",
      "The Story of Little Red Riding...\n",
      "\n",
      "> Merging 2 nodes into parent node.\n",
      "> Parent node id: d8868ccb-da68-470e-b752-b6544fdbe3fe.\n",
      "> Parent node text: “Let me in, Grandma,” she called merrily. “I have brought you a basket of sweet cherry pies.”\n",
      " “L...\n",
      "\n",
      "> Merging 1 nodes into parent node.\n",
      "> Parent node id: daeae9c7-0679-4091-aabd-c4296e87d252.\n",
      "> Parent node text: www.scholastic.co.ukhttp://www.scholastic.co.uk/\n",
      " “Grandma”, gasped Little Red Riding Hood. “What...\n",
      "\n",
      "> Merging 2 nodes into parent node.\n",
      "> Parent node id: 7cf2567c-9525-419a-8072-d6efb6cf9895.\n",
      "> Parent node text: www.scholastic.co.ukhttp://www.scholastic.co.uk/\n",
      "Fairytale Kingdom\n",
      "The Story of Little Red Riding...\n",
      "\n"
     ]
    },
    {
     "name": "stderr",
     "output_type": "stream",
     "text": [
      "A new object of type <class 'llama_index.response_synthesizers.compact_and_refine.CompactAndRefine'> at 0x21f2f52d780 is calling an instrumented method <function CompactAndRefine.get_response at 0x0000021F10DE5000>. The path of this call may be incorrect.\n",
      "Guessing path of new object is app._response_synthesizer based on other object (0x21f23665ff0) using this function.\n",
      "A new object of type <class 'llama_index.response_synthesizers.compact_and_refine.CompactAndRefine'> at 0x21f2f52d780 is calling an instrumented method <function Refine.get_response at 0x0000021F1173DC60>. The path of this call may be incorrect.\n",
      "Guessing path of new object is app._response_synthesizer based on other object (0x21f23665ff0) using this function.\n"
     ]
    },
    {
     "name": "stdout",
     "output_type": "stream",
     "text": [
      "What happened to the wolf at the end?\n",
      "The wolf was put to sleep by the Storyland Vets and Grandma was found safe and well inside his tummy. However, when the wolf was sewn up again, Grandma's two pointy shoes were accidentally left inside him. Now, whenever the wolf feels hungry, the shoes dance and prance, causing him to howl, and he never dreams of eating a grandma again.\n"
     ]
    },
    {
     "name": "stderr",
     "output_type": "stream",
     "text": [
      "A new object of type <class 'llama_index.query_engine.retriever_query_engine.RetrieverQueryEngine'> at 0x21f2f52d750 is calling an instrumented method <function RetrieverQueryEngine.retrieve at 0x0000021F138E5900>. The path of this call may be incorrect.\n",
      "Guessing path of new object is app based on other object (0x21f28e3ea10) using this function.\n"
     ]
    },
    {
     "name": "stdout",
     "output_type": "stream",
     "text": [
      "> Merging 4 nodes into parent node.\n",
      "> Parent node id: 5e1e21cd-474e-425b-8054-46fc312af0ca.\n",
      "> Parent node text: www.scholastic.co.ukhttp://www.scholastic.co.uk/\n",
      " “Grandma”, gasped Little Red Riding Hood. “What...\n",
      "\n",
      "> Merging 2 nodes into parent node.\n",
      "> Parent node id: d8868ccb-da68-470e-b752-b6544fdbe3fe.\n",
      "> Parent node text: “Let me in, Grandma,” she called merrily. “I have brought you a basket of sweet cherry pies.”\n",
      " “L...\n",
      "\n",
      "> Merging 5 nodes into parent node.\n",
      "> Parent node id: 374b0bb9-3339-43c0-904e-5eff4ace2d9a.\n",
      "> Parent node text: www.scholastic.co.ukhttp://www.scholastic.co.uk/\n",
      "Fairytale Kingdom\n",
      "The Story of Little Red Riding...\n",
      "\n",
      "> Merging 1 nodes into parent node.\n",
      "> Parent node id: daeae9c7-0679-4091-aabd-c4296e87d252.\n",
      "> Parent node text: www.scholastic.co.ukhttp://www.scholastic.co.uk/\n",
      " “Grandma”, gasped Little Red Riding Hood. “What...\n",
      "\n",
      "> Merging 2 nodes into parent node.\n",
      "> Parent node id: 7cf2567c-9525-419a-8072-d6efb6cf9895.\n",
      "> Parent node text: www.scholastic.co.ukhttp://www.scholastic.co.uk/\n",
      "Fairytale Kingdom\n",
      "The Story of Little Red Riding...\n",
      "\n"
     ]
    },
    {
     "name": "stderr",
     "output_type": "stream",
     "text": [
      "A new object of type <class 'llama_index.response_synthesizers.compact_and_refine.CompactAndRefine'> at 0x21f2f52d780 is calling an instrumented method <function CompactAndRefine.get_response at 0x0000021F10DE5000>. The path of this call may be incorrect.\n",
      "Guessing path of new object is app._response_synthesizer based on other object (0x21f23665ff0) using this function.\n",
      "A new object of type <class 'llama_index.response_synthesizers.compact_and_refine.CompactAndRefine'> at 0x21f2f52d780 is calling an instrumented method <function Refine.get_response at 0x0000021F1173DC60>. The path of this call may be incorrect.\n",
      "Guessing path of new object is app._response_synthesizer based on other object (0x21f23665ff0) using this function.\n"
     ]
    },
    {
     "name": "stdout",
     "output_type": "stream",
     "text": [
      "what was the morale of the story?\n",
      "The morale of the story is to never stop and speak to the Big Bad Wolf.\n"
     ]
    }
   ],
   "source": [
    "for question in eval_questions:\n",
    "    with tru_recorder_automerging as recording:\n",
    "        response = automerging_query_engine.query(question)\n",
    "        print(question)\n",
    "        print(response)"
   ]
  },
  {
   "cell_type": "code",
   "execution_count": 33,
   "id": "3774b20e-fd94-4a44-b8f2-ee70077f133d",
   "metadata": {},
   "outputs": [
    {
     "data": {
      "text/html": [
       "<div>\n",
       "<style scoped>\n",
       "    .dataframe tbody tr th:only-of-type {\n",
       "        vertical-align: middle;\n",
       "    }\n",
       "\n",
       "    .dataframe tbody tr th {\n",
       "        vertical-align: top;\n",
       "    }\n",
       "\n",
       "    .dataframe thead th {\n",
       "        text-align: right;\n",
       "    }\n",
       "</style>\n",
       "<table border=\"1\" class=\"dataframe\">\n",
       "  <thead>\n",
       "    <tr style=\"text-align: right;\">\n",
       "      <th></th>\n",
       "      <th>Context Relevance</th>\n",
       "      <th>Groundedness</th>\n",
       "      <th>Answer Relevance</th>\n",
       "      <th>latency</th>\n",
       "      <th>total_cost</th>\n",
       "    </tr>\n",
       "    <tr>\n",
       "      <th>app_id</th>\n",
       "      <th></th>\n",
       "      <th></th>\n",
       "      <th></th>\n",
       "      <th></th>\n",
       "      <th></th>\n",
       "    </tr>\n",
       "  </thead>\n",
       "  <tbody>\n",
       "    <tr>\n",
       "      <th>Automerging Query Engine</th>\n",
       "      <td>0.0</td>\n",
       "      <td>1.0</td>\n",
       "      <td>1.0</td>\n",
       "      <td>5.625</td>\n",
       "      <td>0.001772</td>\n",
       "    </tr>\n",
       "  </tbody>\n",
       "</table>\n",
       "</div>"
      ],
      "text/plain": [
       "                          Context Relevance  Groundedness  Answer Relevance  \\\n",
       "app_id                                                                        \n",
       "Automerging Query Engine                0.0           1.0               1.0   \n",
       "\n",
       "                          latency  total_cost  \n",
       "app_id                                         \n",
       "Automerging Query Engine    5.625    0.001772  "
      ]
     },
     "execution_count": 33,
     "metadata": {},
     "output_type": "execute_result"
    }
   ],
   "source": [
    "tru.get_leaderboard(app_ids=[])"
   ]
  },
  {
   "cell_type": "code",
   "execution_count": null,
   "id": "7400e098-acbd-4ed7-a3f7-8f93dcb8e32b",
   "metadata": {},
   "outputs": [],
   "source": []
  }
 ],
 "metadata": {
  "kernelspec": {
   "display_name": "Python 3 (ipykernel)",
   "language": "python",
   "name": "python3"
  },
  "language_info": {
   "codemirror_mode": {
    "name": "ipython",
    "version": 3
   },
   "file_extension": ".py",
   "mimetype": "text/x-python",
   "name": "python",
   "nbconvert_exporter": "python",
   "pygments_lexer": "ipython3",
   "version": "3.10.13"
  }
 },
 "nbformat": 4,
 "nbformat_minor": 5
}
