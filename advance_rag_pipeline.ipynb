{
 "cells": [
  {
   "cell_type": "code",
   "execution_count": 1,
   "id": "04d4b1d7-52ba-449f-8f95-e65b773f480f",
   "metadata": {},
   "outputs": [],
   "source": [
    "import os\n",
    "import openai"
   ]
  },
  {
   "cell_type": "code",
   "execution_count": 2,
   "id": "ff7b8f7c-23ef-455e-897f-32e19363b761",
   "metadata": {},
   "outputs": [],
   "source": [
    "from dotenv import load_dotenv\n",
    "load_dotenv()\n",
    "openai.api_key = os.getenv(\"OPENAI_API_KEY\")"
   ]
  },
  {
   "cell_type": "code",
   "execution_count": 3,
   "id": "41d5b6dd-354c-4fad-b0c6-bec6b634b358",
   "metadata": {},
   "outputs": [],
   "source": [
    "from openai import AsyncOpenAI"
   ]
  },
  {
   "cell_type": "code",
   "execution_count": 4,
   "id": "997fa856-50f0-449a-bab9-2db4d501459b",
   "metadata": {
    "scrolled": true
   },
   "outputs": [],
   "source": [
    "from llama_index import SimpleDirectoryReader\n",
    "\n",
    "docs = SimpleDirectoryReader(\n",
    "    input_files = [\"./ce-little-red-story-pcp-115014.pdf\"]\n",
    ").load_data() # one doc per page "
   ]
  },
  {
   "cell_type": "markdown",
   "id": "88f9f917-658f-4395-aaa8-59eb5dc1af52",
   "metadata": {},
   "source": [
    "# Basic RAG Pipeline"
   ]
  },
  {
   "cell_type": "code",
   "execution_count": 5,
   "id": "2b0c3a7a-1d71-452f-8dc3-c9578ec9d53c",
   "metadata": {},
   "outputs": [],
   "source": [
    "from llama_index import Document\n",
    "\n",
    "doc = Document(text = '\\n\\n'.join([doc.text for doc in docs])) #merge the docs into one doc"
   ]
  },
  {
   "cell_type": "code",
   "execution_count": 6,
   "id": "1ad0cce8-f8f5-4d60-af5b-14e257e667a2",
   "metadata": {},
   "outputs": [],
   "source": [
    "from llama_index import VectorStoreIndex\n",
    "from llama_index import ServiceContext\n",
    "from llama_index.llms import OpenAI\n",
    "\n",
    "llm = OpenAI(model = 'gpt-3.5-turbo', temperature = 0.1)\n",
    "service_context = ServiceContext.from_defaults(\n",
    "            llm = llm,\n",
    "            embed_model = 'local:BAAI/bge-small-en-v1.5' # hugging face model\n",
    ")\n",
    "index = VectorStoreIndex.from_documents([doc], service_context = service_context)"
   ]
  },
  {
   "cell_type": "code",
   "execution_count": 7,
   "id": "87b27c8f-3236-42d6-9ca4-b8ba24cb4580",
   "metadata": {},
   "outputs": [],
   "source": [
    "query_engine = index.as_query_engine() # send user query and compare it against data"
   ]
  },
  {
   "cell_type": "code",
   "execution_count": 8,
   "id": "381e2f76-b59b-47f7-9532-1681de4ac9a3",
   "metadata": {},
   "outputs": [],
   "source": [
    "response = query_engine.query(\n",
    "    'What is the story about?')"
   ]
  },
  {
   "cell_type": "code",
   "execution_count": 9,
   "id": "7750ab60-eeb7-47ab-83e4-cfbf21dbad76",
   "metadata": {},
   "outputs": [
    {
     "name": "stdout",
     "output_type": "stream",
     "text": [
      "The story is about a little girl named Little Red Riding Hood who is sent by her mother to take a basket of sweet cherry pies to her grandmother's house. Along the way, she encounters a thorn that holds her cloak, and a tall dark shape that turns out to be the Big Bad Wolf. Unaware of the wolf's true identity, Little Red Riding Hood continues on her journey and arrives at her grandmother's cottage, only to find the wolf disguised as her grandmother. The wolf reveals its true identity and tries to eat Little Red Riding Hood, but she is saved by the Wise Owl and the Storyland Vets. In the end, the wolf is put to sleep and Grandma is found safe, but her two pointy shoes are accidentally left inside the wolf's stomach. The story teaches the lesson of not speaking to strangers, particularly the Big Bad Wolf.\n"
     ]
    }
   ],
   "source": [
    "print(str(response))"
   ]
  },
  {
   "cell_type": "markdown",
   "id": "f6ce5fed-838d-4039-a2b0-73db83cbccb9",
   "metadata": {},
   "source": [
    "# Evaluating setup using TruLens"
   ]
  },
  {
   "cell_type": "markdown",
   "id": "d501c176-7ab4-4b5e-b528-c1fb133953e1",
   "metadata": {},
   "source": [
    "## a set of questions to evaluate the model against"
   ]
  },
  {
   "cell_type": "code",
   "execution_count": 10,
   "id": "79c76675-dd4d-4cc5-93ca-9195f3cd244d",
   "metadata": {},
   "outputs": [
    {
     "name": "stdout",
     "output_type": "stream",
     "text": [
      "What is the name of the main character?\n",
      "What was in Red Riding Hood basket?\n",
      "Whom did Red Riding Hood went to visit?\n",
      "Where did the grandma live?\n",
      "Who ate the grandma?\n",
      "Who helped Red Riding Hood to rescue the grandma?\n",
      "What happened to the wolf at the end?\n"
     ]
    }
   ],
   "source": [
    "eval_questions = []\n",
    "with open('eval_questions.txt', 'r') as file:\n",
    "    for line in file:\n",
    "        item = line.strip() #remove new line character and convert it to integer\n",
    "        print(item)\n",
    "        eval_questions.append(item)"
   ]
  },
  {
   "cell_type": "code",
   "execution_count": 11,
   "id": "c433164d-e464-4f7e-9907-e1a3fc1b5951",
   "metadata": {},
   "outputs": [
    {
     "data": {
      "text/plain": [
       "['What is the name of the main character?',\n",
       " 'What was in Red Riding Hood basket?',\n",
       " 'Whom did Red Riding Hood went to visit?',\n",
       " 'Where did the grandma live?',\n",
       " 'Who ate the grandma?',\n",
       " 'Who helped Red Riding Hood to rescue the grandma?',\n",
       " 'What happened to the wolf at the end?',\n",
       " 'what was the morale of the story?']"
      ]
     },
     "execution_count": 11,
     "metadata": {},
     "output_type": "execute_result"
    }
   ],
   "source": [
    "new_question = 'what was the morale of the story?'\n",
    "eval_questions.append(new_question)\n",
    "eval_questions"
   ]
  },
  {
   "cell_type": "markdown",
   "id": "21c2d13d-090c-465b-8d17-154278fe59c3",
   "metadata": {},
   "source": [
    "## Setting up the model"
   ]
  },
  {
   "cell_type": "code",
   "execution_count": 16,
   "id": "2b63f981-4cec-4cb3-a2b7-b63ddc019543",
   "metadata": {},
   "outputs": [
    {
     "name": "stdout",
     "output_type": "stream",
     "text": [
      "🦑 Tru initialized with db url sqlite:///default.sqlite .\n",
      "🛑 Secret keys may be written to the database. See the `database_redact_keys` option of `Tru` to prevent this.\n"
     ]
    }
   ],
   "source": [
    "from trulens_eval import Tru\n",
    "tru = Tru()\n",
    "\n",
    "tru.reset_database()"
   ]
  },
  {
   "cell_type": "code",
   "execution_count": 42,
   "id": "43ba04f5-9517-4b33-92d1-806fc48bf0b9",
   "metadata": {},
   "outputs": [],
   "source": [
    "from utils_trulens import get_prebuilt_trulens_recorder\n",
    "tru_recorder = get_prebuilt_trulens_recorder(query_engine, app_id = 'Direct Query Engine')"
   ]
  },
  {
   "cell_type": "code",
   "execution_count": 43,
   "id": "e450b3c8-b39d-4fef-b880-d1f974753e2e",
   "metadata": {},
   "outputs": [],
   "source": [
    "with tru_recorder as recording:\n",
    "    for question in eval_questions:\n",
    "        response = query_engine.query(question)"
   ]
  },
  {
   "cell_type": "code",
   "execution_count": 44,
   "id": "c472b7aa-89fe-45a9-9788-dd7f76f02331",
   "metadata": {},
   "outputs": [],
   "source": [
    "records, feedback = tru.get_records_and_feedback(app_ids = [])"
   ]
  },
  {
   "cell_type": "code",
   "execution_count": 45,
   "id": "553a7b79-9808-4a19-aecc-3dd64d327589",
   "metadata": {},
   "outputs": [
    {
     "data": {
      "text/html": [
       "<div>\n",
       "<style scoped>\n",
       "    .dataframe tbody tr th:only-of-type {\n",
       "        vertical-align: middle;\n",
       "    }\n",
       "\n",
       "    .dataframe tbody tr th {\n",
       "        vertical-align: top;\n",
       "    }\n",
       "\n",
       "    .dataframe thead th {\n",
       "        text-align: right;\n",
       "    }\n",
       "</style>\n",
       "<table border=\"1\" class=\"dataframe\">\n",
       "  <thead>\n",
       "    <tr style=\"text-align: right;\">\n",
       "      <th></th>\n",
       "      <th>app_id</th>\n",
       "      <th>app_json</th>\n",
       "      <th>type</th>\n",
       "      <th>record_id</th>\n",
       "      <th>input</th>\n",
       "      <th>output</th>\n",
       "      <th>tags</th>\n",
       "      <th>record_json</th>\n",
       "      <th>cost_json</th>\n",
       "      <th>perf_json</th>\n",
       "      <th>ts</th>\n",
       "      <th>Answer Relevance</th>\n",
       "      <th>Groundedness</th>\n",
       "      <th>Context Relevance</th>\n",
       "      <th>Answer Relevance_calls</th>\n",
       "      <th>Groundedness_calls</th>\n",
       "      <th>Context Relevance_calls</th>\n",
       "      <th>latency</th>\n",
       "      <th>total_tokens</th>\n",
       "      <th>total_cost</th>\n",
       "    </tr>\n",
       "  </thead>\n",
       "  <tbody>\n",
       "    <tr>\n",
       "      <th>0</th>\n",
       "      <td>Sentence window query engine</td>\n",
       "      <td>{\"tru_class_info\": {\"name\": \"TruLlama\", \"modul...</td>\n",
       "      <td>RetrieverQueryEngine(llama_index.query_engine....</td>\n",
       "      <td>record_hash_d73ad65a2e8c2a832317bb0b41b4ab80</td>\n",
       "      <td>\"What is the name of the main character?\"</td>\n",
       "      <td>\"The name of the main character is Little Red ...</td>\n",
       "      <td>-</td>\n",
       "      <td>{\"record_id\": \"record_hash_d73ad65a2e8c2a83231...</td>\n",
       "      <td>{\"n_requests\": 1, \"n_successful_requests\": 1, ...</td>\n",
       "      <td>{\"start_time\": \"2023-12-19T19:35:30.662360\", \"...</td>\n",
       "      <td>2023-12-19T19:35:35.684319</td>\n",
       "      <td>1.0</td>\n",
       "      <td>1.0</td>\n",
       "      <td>0.1</td>\n",
       "      <td>[{'args': {'prompt': 'What is the name of the ...</td>\n",
       "      <td>[{'args': {'source': '“Wait!  You’re not my gr...</td>\n",
       "      <td>[{'args': {'prompt': 'What is the name of the ...</td>\n",
       "      <td>5</td>\n",
       "      <td>373</td>\n",
       "      <td>0.000566</td>\n",
       "    </tr>\n",
       "    <tr>\n",
       "      <th>1</th>\n",
       "      <td>Sentence window query engine</td>\n",
       "      <td>{\"tru_class_info\": {\"name\": \"TruLlama\", \"modul...</td>\n",
       "      <td>RetrieverQueryEngine(llama_index.query_engine....</td>\n",
       "      <td>record_hash_bac3b702d567dc894b00290981574ae0</td>\n",
       "      <td>\"What was in Red Riding Hood basket?\"</td>\n",
       "      <td>\"Sweet cherry pies.\"</td>\n",
       "      <td>-</td>\n",
       "      <td>{\"record_id\": \"record_hash_bac3b702d567dc894b0...</td>\n",
       "      <td>{\"n_requests\": 1, \"n_successful_requests\": 1, ...</td>\n",
       "      <td>{\"start_time\": \"2023-12-19T19:35:36.163743\", \"...</td>\n",
       "      <td>2023-12-19T19:35:41.385144</td>\n",
       "      <td>0.2</td>\n",
       "      <td>1.0</td>\n",
       "      <td>0.1</td>\n",
       "      <td>[{'args': {'prompt': 'What was in Red Riding H...</td>\n",
       "      <td>[{'args': {'source': 'www.scholastic.co.ukhttp...</td>\n",
       "      <td>[{'args': {'prompt': 'What was in Red Riding H...</td>\n",
       "      <td>5</td>\n",
       "      <td>327</td>\n",
       "      <td>0.000492</td>\n",
       "    </tr>\n",
       "    <tr>\n",
       "      <th>2</th>\n",
       "      <td>Sentence window query engine</td>\n",
       "      <td>{\"tru_class_info\": {\"name\": \"TruLlama\", \"modul...</td>\n",
       "      <td>RetrieverQueryEngine(llama_index.query_engine....</td>\n",
       "      <td>record_hash_21da6935659d39bdd4ce07ece1677eaa</td>\n",
       "      <td>\"Whom did Red Riding Hood went to visit?\"</td>\n",
       "      <td>\"Red Riding Hood went to visit her Grandma.\"</td>\n",
       "      <td>-</td>\n",
       "      <td>{\"record_id\": \"record_hash_21da6935659d39bdd4c...</td>\n",
       "      <td>{\"n_requests\": 1, \"n_successful_requests\": 1, ...</td>\n",
       "      <td>{\"start_time\": \"2023-12-19T19:35:41.845506\", \"...</td>\n",
       "      <td>2023-12-19T19:35:47.161259</td>\n",
       "      <td>1.0</td>\n",
       "      <td>1.0</td>\n",
       "      <td>0.5</td>\n",
       "      <td>[{'args': {'prompt': 'Whom did Red Riding Hood...</td>\n",
       "      <td>[{'args': {'source': 'www.scholastic.co.ukhttp...</td>\n",
       "      <td>[{'args': {'prompt': 'Whom did Red Riding Hood...</td>\n",
       "      <td>5</td>\n",
       "      <td>378</td>\n",
       "      <td>0.000571</td>\n",
       "    </tr>\n",
       "    <tr>\n",
       "      <th>3</th>\n",
       "      <td>Sentence window query engine</td>\n",
       "      <td>{\"tru_class_info\": {\"name\": \"TruLlama\", \"modul...</td>\n",
       "      <td>RetrieverQueryEngine(llama_index.query_engine....</td>\n",
       "      <td>record_hash_7e6bf466f837be66b7cb1f7f42c2b1d9</td>\n",
       "      <td>\"Where did the grandma live?\"</td>\n",
       "      <td>\"The grandma lived in a cottage.\"</td>\n",
       "      <td>-</td>\n",
       "      <td>{\"record_id\": \"record_hash_7e6bf466f837be66b7c...</td>\n",
       "      <td>{\"n_requests\": 1, \"n_successful_requests\": 1, ...</td>\n",
       "      <td>{\"start_time\": \"2023-12-19T19:35:47.605333\", \"...</td>\n",
       "      <td>2023-12-19T19:35:52.934423</td>\n",
       "      <td>1.0</td>\n",
       "      <td>1.0</td>\n",
       "      <td>0.0</td>\n",
       "      <td>[{'args': {'prompt': 'Where did the grandma li...</td>\n",
       "      <td>[{'args': {'source': '“I am in bed with a nast...</td>\n",
       "      <td>[{'args': {'prompt': 'Where did the grandma li...</td>\n",
       "      <td>5</td>\n",
       "      <td>395</td>\n",
       "      <td>0.000596</td>\n",
       "    </tr>\n",
       "    <tr>\n",
       "      <th>4</th>\n",
       "      <td>Sentence window query engine</td>\n",
       "      <td>{\"tru_class_info\": {\"name\": \"TruLlama\", \"modul...</td>\n",
       "      <td>RetrieverQueryEngine(llama_index.query_engine....</td>\n",
       "      <td>record_hash_7415a142a119cca56e14b75d837febe0</td>\n",
       "      <td>\"Who ate the grandma?\"</td>\n",
       "      <td>\"The Big Bad Wolf ate the grandma.\"</td>\n",
       "      <td>-</td>\n",
       "      <td>{\"record_id\": \"record_hash_7415a142a119cca56e1...</td>\n",
       "      <td>{\"n_requests\": 1, \"n_successful_requests\": 1, ...</td>\n",
       "      <td>{\"start_time\": \"2023-12-19T19:35:53.425317\", \"...</td>\n",
       "      <td>2023-12-19T19:35:58.821892</td>\n",
       "      <td>1.0</td>\n",
       "      <td>1.0</td>\n",
       "      <td>0.0</td>\n",
       "      <td>[{'args': {'prompt': 'Who ate the grandma?', '...</td>\n",
       "      <td>[{'args': {'source': '“What big eyes you’ve go...</td>\n",
       "      <td>[{'args': {'prompt': 'Who ate the grandma?', '...</td>\n",
       "      <td>5</td>\n",
       "      <td>477</td>\n",
       "      <td>0.000719</td>\n",
       "    </tr>\n",
       "  </tbody>\n",
       "</table>\n",
       "</div>"
      ],
      "text/plain": [
       "                         app_id  \\\n",
       "0  Sentence window query engine   \n",
       "1  Sentence window query engine   \n",
       "2  Sentence window query engine   \n",
       "3  Sentence window query engine   \n",
       "4  Sentence window query engine   \n",
       "\n",
       "                                            app_json  \\\n",
       "0  {\"tru_class_info\": {\"name\": \"TruLlama\", \"modul...   \n",
       "1  {\"tru_class_info\": {\"name\": \"TruLlama\", \"modul...   \n",
       "2  {\"tru_class_info\": {\"name\": \"TruLlama\", \"modul...   \n",
       "3  {\"tru_class_info\": {\"name\": \"TruLlama\", \"modul...   \n",
       "4  {\"tru_class_info\": {\"name\": \"TruLlama\", \"modul...   \n",
       "\n",
       "                                                type  \\\n",
       "0  RetrieverQueryEngine(llama_index.query_engine....   \n",
       "1  RetrieverQueryEngine(llama_index.query_engine....   \n",
       "2  RetrieverQueryEngine(llama_index.query_engine....   \n",
       "3  RetrieverQueryEngine(llama_index.query_engine....   \n",
       "4  RetrieverQueryEngine(llama_index.query_engine....   \n",
       "\n",
       "                                      record_id  \\\n",
       "0  record_hash_d73ad65a2e8c2a832317bb0b41b4ab80   \n",
       "1  record_hash_bac3b702d567dc894b00290981574ae0   \n",
       "2  record_hash_21da6935659d39bdd4ce07ece1677eaa   \n",
       "3  record_hash_7e6bf466f837be66b7cb1f7f42c2b1d9   \n",
       "4  record_hash_7415a142a119cca56e14b75d837febe0   \n",
       "\n",
       "                                       input  \\\n",
       "0  \"What is the name of the main character?\"   \n",
       "1      \"What was in Red Riding Hood basket?\"   \n",
       "2  \"Whom did Red Riding Hood went to visit?\"   \n",
       "3              \"Where did the grandma live?\"   \n",
       "4                     \"Who ate the grandma?\"   \n",
       "\n",
       "                                              output tags  \\\n",
       "0  \"The name of the main character is Little Red ...    -   \n",
       "1                               \"Sweet cherry pies.\"    -   \n",
       "2       \"Red Riding Hood went to visit her Grandma.\"    -   \n",
       "3                  \"The grandma lived in a cottage.\"    -   \n",
       "4                \"The Big Bad Wolf ate the grandma.\"    -   \n",
       "\n",
       "                                         record_json  \\\n",
       "0  {\"record_id\": \"record_hash_d73ad65a2e8c2a83231...   \n",
       "1  {\"record_id\": \"record_hash_bac3b702d567dc894b0...   \n",
       "2  {\"record_id\": \"record_hash_21da6935659d39bdd4c...   \n",
       "3  {\"record_id\": \"record_hash_7e6bf466f837be66b7c...   \n",
       "4  {\"record_id\": \"record_hash_7415a142a119cca56e1...   \n",
       "\n",
       "                                           cost_json  \\\n",
       "0  {\"n_requests\": 1, \"n_successful_requests\": 1, ...   \n",
       "1  {\"n_requests\": 1, \"n_successful_requests\": 1, ...   \n",
       "2  {\"n_requests\": 1, \"n_successful_requests\": 1, ...   \n",
       "3  {\"n_requests\": 1, \"n_successful_requests\": 1, ...   \n",
       "4  {\"n_requests\": 1, \"n_successful_requests\": 1, ...   \n",
       "\n",
       "                                           perf_json  \\\n",
       "0  {\"start_time\": \"2023-12-19T19:35:30.662360\", \"...   \n",
       "1  {\"start_time\": \"2023-12-19T19:35:36.163743\", \"...   \n",
       "2  {\"start_time\": \"2023-12-19T19:35:41.845506\", \"...   \n",
       "3  {\"start_time\": \"2023-12-19T19:35:47.605333\", \"...   \n",
       "4  {\"start_time\": \"2023-12-19T19:35:53.425317\", \"...   \n",
       "\n",
       "                           ts  Answer Relevance  Groundedness  \\\n",
       "0  2023-12-19T19:35:35.684319               1.0           1.0   \n",
       "1  2023-12-19T19:35:41.385144               0.2           1.0   \n",
       "2  2023-12-19T19:35:47.161259               1.0           1.0   \n",
       "3  2023-12-19T19:35:52.934423               1.0           1.0   \n",
       "4  2023-12-19T19:35:58.821892               1.0           1.0   \n",
       "\n",
       "   Context Relevance                             Answer Relevance_calls  \\\n",
       "0                0.1  [{'args': {'prompt': 'What is the name of the ...   \n",
       "1                0.1  [{'args': {'prompt': 'What was in Red Riding H...   \n",
       "2                0.5  [{'args': {'prompt': 'Whom did Red Riding Hood...   \n",
       "3                0.0  [{'args': {'prompt': 'Where did the grandma li...   \n",
       "4                0.0  [{'args': {'prompt': 'Who ate the grandma?', '...   \n",
       "\n",
       "                                  Groundedness_calls  \\\n",
       "0  [{'args': {'source': '“Wait!  You’re not my gr...   \n",
       "1  [{'args': {'source': 'www.scholastic.co.ukhttp...   \n",
       "2  [{'args': {'source': 'www.scholastic.co.ukhttp...   \n",
       "3  [{'args': {'source': '“I am in bed with a nast...   \n",
       "4  [{'args': {'source': '“What big eyes you’ve go...   \n",
       "\n",
       "                             Context Relevance_calls  latency  total_tokens  \\\n",
       "0  [{'args': {'prompt': 'What is the name of the ...        5           373   \n",
       "1  [{'args': {'prompt': 'What was in Red Riding H...        5           327   \n",
       "2  [{'args': {'prompt': 'Whom did Red Riding Hood...        5           378   \n",
       "3  [{'args': {'prompt': 'Where did the grandma li...        5           395   \n",
       "4  [{'args': {'prompt': 'Who ate the grandma?', '...        5           477   \n",
       "\n",
       "   total_cost  \n",
       "0    0.000566  \n",
       "1    0.000492  \n",
       "2    0.000571  \n",
       "3    0.000596  \n",
       "4    0.000719  "
      ]
     },
     "execution_count": 45,
     "metadata": {},
     "output_type": "execute_result"
    }
   ],
   "source": [
    "records.head()"
   ]
  },
  {
   "cell_type": "code",
   "execution_count": 47,
   "id": "91bfb4ca-fd7d-49e1-87c5-b3d3eab2fc9c",
   "metadata": {},
   "outputs": [
    {
     "data": {
      "text/html": [
       "<div>\n",
       "<style scoped>\n",
       "    .dataframe tbody tr th:only-of-type {\n",
       "        vertical-align: middle;\n",
       "    }\n",
       "\n",
       "    .dataframe tbody tr th {\n",
       "        vertical-align: top;\n",
       "    }\n",
       "\n",
       "    .dataframe thead th {\n",
       "        text-align: right;\n",
       "    }\n",
       "</style>\n",
       "<table border=\"1\" class=\"dataframe\">\n",
       "  <thead>\n",
       "    <tr style=\"text-align: right;\">\n",
       "      <th></th>\n",
       "      <th>Groundedness</th>\n",
       "      <th>Answer Relevance</th>\n",
       "      <th>Context Relevance</th>\n",
       "      <th>latency</th>\n",
       "      <th>total_cost</th>\n",
       "    </tr>\n",
       "    <tr>\n",
       "      <th>app_id</th>\n",
       "      <th></th>\n",
       "      <th></th>\n",
       "      <th></th>\n",
       "      <th></th>\n",
       "      <th></th>\n",
       "    </tr>\n",
       "  </thead>\n",
       "  <tbody>\n",
       "    <tr>\n",
       "      <th>Direct Query Engine</th>\n",
       "      <td>1.00</td>\n",
       "      <td>1.0</td>\n",
       "      <td>0.00000</td>\n",
       "      <td>4.777778</td>\n",
       "      <td>0.001704</td>\n",
       "    </tr>\n",
       "    <tr>\n",
       "      <th>Sentence window query engine</th>\n",
       "      <td>0.75</td>\n",
       "      <td>0.9</td>\n",
       "      <td>0.14375</td>\n",
       "      <td>5.000000</td>\n",
       "      <td>0.000605</td>\n",
       "    </tr>\n",
       "  </tbody>\n",
       "</table>\n",
       "</div>"
      ],
      "text/plain": [
       "                              Groundedness  Answer Relevance  \\\n",
       "app_id                                                         \n",
       "Direct Query Engine                   1.00               1.0   \n",
       "Sentence window query engine          0.75               0.9   \n",
       "\n",
       "                              Context Relevance   latency  total_cost  \n",
       "app_id                                                                 \n",
       "Direct Query Engine                     0.00000  4.777778    0.001704  \n",
       "Sentence window query engine            0.14375  5.000000    0.000605  "
      ]
     },
     "execution_count": 47,
     "metadata": {},
     "output_type": "execute_result"
    }
   ],
   "source": [
    "tru.get_leaderboard(app_ids = [])"
   ]
  },
  {
   "cell_type": "code",
   "execution_count": 46,
   "id": "dac0f1eb-a424-4107-9c7e-e806c9ac65aa",
   "metadata": {},
   "outputs": [
    {
     "name": "stdout",
     "output_type": "stream",
     "text": [
      "Starting dashboard ...\n",
      "Config file already exists. Skipping writing process.\n",
      "Credentials file already exists. Skipping writing process.\n",
      "Dashboard already running at path:   URL: http://localhost:8501\n",
      "\n"
     ]
    },
    {
     "data": {
      "text/plain": [
       "<Popen: returncode: None args: ['streamlit', 'run', '--server.headless=True'...>"
      ]
     },
     "execution_count": 46,
     "metadata": {},
     "output_type": "execute_result"
    }
   ],
   "source": [
    "tru.run_dashboard()"
   ]
  },
  {
   "cell_type": "markdown",
   "id": "5bc0719c-a116-4c22-a1df-925ad365601e",
   "metadata": {},
   "source": [
    "# Advanced RAG pipeline"
   ]
  },
  {
   "cell_type": "markdown",
   "id": "f2d2552f-1e26-4a59-9db4-005d5e9c14dd",
   "metadata": {},
   "source": [
    "## Sentence window retrieval"
   ]
  },
  {
   "cell_type": "code",
   "execution_count": 23,
   "id": "3ae6b7b2-83ab-49b2-b982-b9b21788afee",
   "metadata": {},
   "outputs": [],
   "source": [
    "from llama_index.llms import OpenAI\n",
    "\n",
    "llm = OpenAI(model = 'gpt-3.5-turbo', temperature = 0.1)"
   ]
  },
  {
   "cell_type": "code",
   "execution_count": 28,
   "id": "338fb581-d2d6-4498-b13d-2485efa35dad",
   "metadata": {},
   "outputs": [],
   "source": [
    "from utils_trulens import build_sentence_window_index\n",
    "# retreive multiple sentences instead of one\n",
    "sentence_index = build_sentence_window_index(\n",
    "    doc,\n",
    "    llm,\n",
    "    embed_model = 'local:BAAI/bge-small-en-v1.5',\n",
    "    save_dir = 'sentence_index'\n",
    ")"
   ]
  },
  {
   "cell_type": "code",
   "execution_count": 30,
   "id": "66060d1b-3169-4406-bd22-093d79c740f7",
   "metadata": {},
   "outputs": [
    {
     "data": {
      "application/vnd.jupyter.widget-view+json": {
       "model_id": "67e51911dc5e4babbe28469ec5d12d3f",
       "version_major": 2,
       "version_minor": 0
      },
      "text/plain": [
       "config.json:   0%|          | 0.00/799 [00:00<?, ?B/s]"
      ]
     },
     "metadata": {},
     "output_type": "display_data"
    },
    {
     "name": "stderr",
     "output_type": "stream",
     "text": [
      "C:\\Users\\ergo_\\Anaconda3\\envs\\llm\\lib\\site-packages\\huggingface_hub\\file_download.py:147: UserWarning: `huggingface_hub` cache-system uses symlinks by default to efficiently store duplicated files but your machine does not support them in C:\\Users\\ergo_\\.cache\\huggingface\\hub. Caching files will still work but in a degraded version that might require more space on your disk. This warning can be disabled by setting the `HF_HUB_DISABLE_SYMLINKS_WARNING` environment variable. For more details, see https://huggingface.co/docs/huggingface_hub/how-to-cache#limitations.\n",
      "To support symlinks on Windows, you either need to activate Developer Mode or to run Python as an administrator. In order to see activate developer mode, see this article: https://docs.microsoft.com/en-us/windows/apps/get-started/enable-your-device-for-development\n",
      "  warnings.warn(message)\n"
     ]
    },
    {
     "data": {
      "application/vnd.jupyter.widget-view+json": {
       "model_id": "587950c0b34e4ebea83eb68068a36b6a",
       "version_major": 2,
       "version_minor": 0
      },
      "text/plain": [
       "model.safetensors:   0%|          | 0.00/1.11G [00:00<?, ?B/s]"
      ]
     },
     "metadata": {},
     "output_type": "display_data"
    },
    {
     "data": {
      "application/vnd.jupyter.widget-view+json": {
       "model_id": "c2c60891e5894d86870a6057a12e21bb",
       "version_major": 2,
       "version_minor": 0
      },
      "text/plain": [
       "tokenizer_config.json:   0%|          | 0.00/443 [00:00<?, ?B/s]"
      ]
     },
     "metadata": {},
     "output_type": "display_data"
    },
    {
     "data": {
      "application/vnd.jupyter.widget-view+json": {
       "model_id": "c692a0df1fa54f7ba0f3778e035ba471",
       "version_major": 2,
       "version_minor": 0
      },
      "text/plain": [
       "sentencepiece.bpe.model:   0%|          | 0.00/5.07M [00:00<?, ?B/s]"
      ]
     },
     "metadata": {},
     "output_type": "display_data"
    },
    {
     "data": {
      "application/vnd.jupyter.widget-view+json": {
       "model_id": "337f047102f4410ba5819f0b40e28abd",
       "version_major": 2,
       "version_minor": 0
      },
      "text/plain": [
       "tokenizer.json:   0%|          | 0.00/17.1M [00:00<?, ?B/s]"
      ]
     },
     "metadata": {},
     "output_type": "display_data"
    },
    {
     "data": {
      "application/vnd.jupyter.widget-view+json": {
       "model_id": "dcb15ec430bb4163b59e37fc3db43cb9",
       "version_major": 2,
       "version_minor": 0
      },
      "text/plain": [
       "special_tokens_map.json:   0%|          | 0.00/279 [00:00<?, ?B/s]"
      ]
     },
     "metadata": {},
     "output_type": "display_data"
    }
   ],
   "source": [
    "from utils_trulens import get_sentence_window_query_engine\n",
    "sentence_window_engine = get_sentence_window_query_engine(sentence_index)"
   ]
  },
  {
   "cell_type": "code",
   "execution_count": 32,
   "id": "a1bbd170-da84-4ddb-926c-44888c745523",
   "metadata": {},
   "outputs": [
    {
     "name": "stdout",
     "output_type": "stream",
     "text": [
      "The morale of the story is to be cautious and not trust strangers, as they may have ulterior motives.\n"
     ]
    }
   ],
   "source": [
    "response = sentence_window_engine.query(\n",
    "    'what was the morale of the story?'\n",
    ")\n",
    "print(str(response))"
   ]
  },
  {
   "cell_type": "code",
   "execution_count": 33,
   "id": "aefef8eb-e31c-417b-a705-e64657cff56f",
   "metadata": {},
   "outputs": [
    {
     "name": "stdout",
     "output_type": "stream",
     "text": [
      "The morale of the story is to never stop and speak to the Big Bad Wolf.\n"
     ]
    }
   ],
   "source": [
    "response = query_engine.query(\n",
    "    'what was the morale of the story?'\n",
    ")\n",
    "print(str(response))"
   ]
  },
  {
   "cell_type": "code",
   "execution_count": 35,
   "id": "1a6150c9-9591-46e6-b7a3-8af8ed70c267",
   "metadata": {},
   "outputs": [],
   "source": [
    "tru.reset_database()\n",
    "\n",
    "tru_recorder_sentence_window = get_prebuilt_trulens_recorder(\n",
    "    sentence_window_engine,\n",
    "    app_id = 'Sentence window query engine'\n",
    ")"
   ]
  },
  {
   "cell_type": "code",
   "execution_count": 36,
   "id": "5e1f2034-d859-46c4-80d6-41a98218ede0",
   "metadata": {},
   "outputs": [
    {
     "name": "stdout",
     "output_type": "stream",
     "text": [
      "What is the name of the main character?\n",
      "The name of the main character is Little Red Riding Hood.\n",
      "What was in Red Riding Hood basket?\n",
      "Sweet cherry pies.\n",
      "Whom did Red Riding Hood went to visit?\n",
      "Red Riding Hood went to visit her Grandma.\n",
      "Where did the grandma live?\n",
      "The grandma lived in a cottage.\n",
      "Who ate the grandma?\n",
      "The Big Bad Wolf ate the grandma.\n",
      "Who helped Red Riding Hood to rescue the grandma?\n",
      "There is no information provided in the given context about who helped Red Riding Hood rescue her grandma.\n",
      "What happened to the wolf at the end?\n",
      "The wolf was sewn up after the Storyland Vets found Grandma safe and well inside his tummy. However, they accidentally left Grandma's two pointy shoes inside him.\n",
      "what was the morale of the story?\n",
      "The morale of the story is to be cautious and not talk to strangers.\n"
     ]
    }
   ],
   "source": [
    "for question in eval_questions:\n",
    "    with tru_recorder_sentence_window as recording:\n",
    "        response = sentence_window_engine.query(question)\n",
    "        print(question)\n",
    "        print(str(response))"
   ]
  },
  {
   "cell_type": "code",
   "execution_count": 38,
   "id": "df124ee2-a1cb-46d3-b605-979c21c50200",
   "metadata": {},
   "outputs": [
    {
     "data": {
      "text/html": [
       "<div>\n",
       "<style scoped>\n",
       "    .dataframe tbody tr th:only-of-type {\n",
       "        vertical-align: middle;\n",
       "    }\n",
       "\n",
       "    .dataframe tbody tr th {\n",
       "        vertical-align: top;\n",
       "    }\n",
       "\n",
       "    .dataframe thead th {\n",
       "        text-align: right;\n",
       "    }\n",
       "</style>\n",
       "<table border=\"1\" class=\"dataframe\">\n",
       "  <thead>\n",
       "    <tr style=\"text-align: right;\">\n",
       "      <th></th>\n",
       "      <th>Groundedness</th>\n",
       "      <th>Answer Relevance</th>\n",
       "      <th>Context Relevance</th>\n",
       "      <th>latency</th>\n",
       "      <th>total_cost</th>\n",
       "    </tr>\n",
       "    <tr>\n",
       "      <th>app_id</th>\n",
       "      <th></th>\n",
       "      <th></th>\n",
       "      <th></th>\n",
       "      <th></th>\n",
       "      <th></th>\n",
       "    </tr>\n",
       "  </thead>\n",
       "  <tbody>\n",
       "    <tr>\n",
       "      <th>Sentence window query engine</th>\n",
       "      <td>0.75</td>\n",
       "      <td>0.9</td>\n",
       "      <td>0.14375</td>\n",
       "      <td>5.0</td>\n",
       "      <td>0.000605</td>\n",
       "    </tr>\n",
       "  </tbody>\n",
       "</table>\n",
       "</div>"
      ],
      "text/plain": [
       "                              Groundedness  Answer Relevance  \\\n",
       "app_id                                                         \n",
       "Sentence window query engine          0.75               0.9   \n",
       "\n",
       "                              Context Relevance  latency  total_cost  \n",
       "app_id                                                                \n",
       "Sentence window query engine            0.14375      5.0    0.000605  "
      ]
     },
     "execution_count": 38,
     "metadata": {},
     "output_type": "execute_result"
    }
   ],
   "source": [
    "tru.get_leaderboard(app_ids = [])"
   ]
  },
  {
   "cell_type": "markdown",
   "id": "04584d5f-b886-4949-98ea-6cd3c30e078a",
   "metadata": {},
   "source": [
    "## Auto_merging retrieval"
   ]
  },
  {
   "cell_type": "code",
   "execution_count": 54,
   "id": "b8f7523a-20c7-4958-a893-f90980da39cd",
   "metadata": {},
   "outputs": [
    {
     "ename": "AttributeError",
     "evalue": "'tuple' object has no attribute 'id_'",
     "output_type": "error",
     "traceback": [
      "\u001b[1;31m---------------------------------------------------------------------------\u001b[0m",
      "\u001b[1;31mAttributeError\u001b[0m                            Traceback (most recent call last)",
      "Input \u001b[1;32mIn [54]\u001b[0m, in \u001b[0;36m<cell line: 3>\u001b[1;34m()\u001b[0m\n\u001b[0;32m      1\u001b[0m \u001b[38;5;28;01mfrom\u001b[39;00m \u001b[38;5;21;01mutils_trulens\u001b[39;00m \u001b[38;5;28;01mimport\u001b[39;00m build_automerging_index\n\u001b[1;32m----> 3\u001b[0m automerging_index \u001b[38;5;241m=\u001b[39m \u001b[43mbuild_automerging_index\u001b[49m\u001b[43m(\u001b[49m\n\u001b[0;32m      4\u001b[0m \u001b[43m        \u001b[49m\u001b[43mdoc\u001b[49m\u001b[43m,\u001b[49m\n\u001b[0;32m      5\u001b[0m \u001b[43m        \u001b[49m\u001b[43mllm\u001b[49m\u001b[43m,\u001b[49m\n\u001b[0;32m      6\u001b[0m \u001b[43m        \u001b[49m\u001b[43membed_model\u001b[49m\u001b[38;5;241;43m=\u001b[39;49m\u001b[38;5;124;43m\"\u001b[39;49m\u001b[38;5;124;43mlocal:BAAI/bge-small-en-v1.5\u001b[39;49m\u001b[38;5;124;43m\"\u001b[39;49m\u001b[43m,\u001b[49m\n\u001b[0;32m      7\u001b[0m \u001b[43m        \u001b[49m\u001b[43msave_dir\u001b[49m\u001b[38;5;241;43m=\u001b[39;49m\u001b[38;5;124;43m\"\u001b[39;49m\u001b[38;5;124;43mmerging_index\u001b[39;49m\u001b[38;5;124;43m\"\u001b[39;49m\n\u001b[0;32m      8\u001b[0m \u001b[43m        \u001b[49m\u001b[43m)\u001b[49m\n",
      "File \u001b[1;32mD:\\projects\\llm\\model_eval\\deeplearningai\\utils_trulens.py:144\u001b[0m, in \u001b[0;36mbuild_automerging_index\u001b[1;34m(documents, llm, embed_model, save_dir, chunk_sizes)\u001b[0m\n\u001b[0;32m    142\u001b[0m chunk_sizes \u001b[38;5;241m=\u001b[39m chunk_sizes \u001b[38;5;129;01mor\u001b[39;00m [\u001b[38;5;241m2048\u001b[39m, \u001b[38;5;241m512\u001b[39m, \u001b[38;5;241m128\u001b[39m]\n\u001b[0;32m    143\u001b[0m node_parser \u001b[38;5;241m=\u001b[39m HierarchicalNodeParser\u001b[38;5;241m.\u001b[39mfrom_defaults(chunk_sizes\u001b[38;5;241m=\u001b[39mchunk_sizes)\n\u001b[1;32m--> 144\u001b[0m nodes \u001b[38;5;241m=\u001b[39m \u001b[43mnode_parser\u001b[49m\u001b[38;5;241;43m.\u001b[39;49m\u001b[43mget_nodes_from_documents\u001b[49m\u001b[43m(\u001b[49m\u001b[43mdocuments\u001b[49m\u001b[43m)\u001b[49m\n\u001b[0;32m    145\u001b[0m leaf_nodes \u001b[38;5;241m=\u001b[39m get_leaf_nodes(nodes)\n\u001b[0;32m    146\u001b[0m merging_context \u001b[38;5;241m=\u001b[39m ServiceContext\u001b[38;5;241m.\u001b[39mfrom_defaults(\n\u001b[0;32m    147\u001b[0m     llm\u001b[38;5;241m=\u001b[39mllm,\n\u001b[0;32m    148\u001b[0m     embed_model\u001b[38;5;241m=\u001b[39membed_model,\n\u001b[0;32m    149\u001b[0m )\n",
      "File \u001b[1;32m~\\Anaconda3\\envs\\llm\\lib\\site-packages\\llama_index\\node_parser\\relational\\hierarchical.py:195\u001b[0m, in \u001b[0;36mHierarchicalNodeParser.get_nodes_from_documents\u001b[1;34m(self, documents, show_progress, **kwargs)\u001b[0m\n\u001b[0;32m    193\u001b[0m \u001b[38;5;66;03m# TODO: a bit of a hack rn for tqdm\u001b[39;00m\n\u001b[0;32m    194\u001b[0m \u001b[38;5;28;01mfor\u001b[39;00m doc \u001b[38;5;129;01min\u001b[39;00m documents_with_progress:\n\u001b[1;32m--> 195\u001b[0m     nodes_from_doc \u001b[38;5;241m=\u001b[39m \u001b[38;5;28;43mself\u001b[39;49m\u001b[38;5;241;43m.\u001b[39;49m\u001b[43m_recursively_get_nodes_from_nodes\u001b[49m\u001b[43m(\u001b[49m\u001b[43m[\u001b[49m\u001b[43mdoc\u001b[49m\u001b[43m]\u001b[49m\u001b[43m,\u001b[49m\u001b[43m \u001b[49m\u001b[38;5;241;43m0\u001b[39;49m\u001b[43m)\u001b[49m\n\u001b[0;32m    196\u001b[0m     all_nodes\u001b[38;5;241m.\u001b[39mextend(nodes_from_doc)\n\u001b[0;32m    198\u001b[0m event\u001b[38;5;241m.\u001b[39mon_end(payload\u001b[38;5;241m=\u001b[39m{EventPayload\u001b[38;5;241m.\u001b[39mNODES: all_nodes})\n",
      "File \u001b[1;32m~\\Anaconda3\\envs\\llm\\lib\\site-packages\\llama_index\\node_parser\\relational\\hierarchical.py:146\u001b[0m, in \u001b[0;36mHierarchicalNodeParser._recursively_get_nodes_from_nodes\u001b[1;34m(self, nodes, level, show_progress)\u001b[0m\n\u001b[0;32m    142\u001b[0m sub_nodes \u001b[38;5;241m=\u001b[39m []\n\u001b[0;32m    143\u001b[0m \u001b[38;5;28;01mfor\u001b[39;00m node \u001b[38;5;129;01min\u001b[39;00m nodes_with_progress:\n\u001b[0;32m    144\u001b[0m     cur_sub_nodes \u001b[38;5;241m=\u001b[39m \u001b[38;5;28;43mself\u001b[39;49m\u001b[38;5;241;43m.\u001b[39;49m\u001b[43mnode_parser_map\u001b[49m\u001b[43m[\u001b[49m\n\u001b[0;32m    145\u001b[0m \u001b[43m        \u001b[49m\u001b[38;5;28;43mself\u001b[39;49m\u001b[38;5;241;43m.\u001b[39;49m\u001b[43mnode_parser_ids\u001b[49m\u001b[43m[\u001b[49m\u001b[43mlevel\u001b[49m\u001b[43m]\u001b[49m\n\u001b[1;32m--> 146\u001b[0m \u001b[43m    \u001b[49m\u001b[43m]\u001b[49m\u001b[38;5;241;43m.\u001b[39;49m\u001b[43mget_nodes_from_documents\u001b[49m\u001b[43m(\u001b[49m\u001b[43m[\u001b[49m\u001b[43mnode\u001b[49m\u001b[43m]\u001b[49m\u001b[43m)\u001b[49m\n\u001b[0;32m    147\u001b[0m     \u001b[38;5;66;03m# add parent relationship from sub node to parent node\u001b[39;00m\n\u001b[0;32m    148\u001b[0m     \u001b[38;5;66;03m# add child relationship from parent node to sub node\u001b[39;00m\n\u001b[0;32m    149\u001b[0m     \u001b[38;5;66;03m# NOTE: Only add relationships if level > 0, since we don't want to add\u001b[39;00m\n\u001b[0;32m    150\u001b[0m     \u001b[38;5;66;03m# relationships for the top-level document objects that we are splitting\u001b[39;00m\n\u001b[0;32m    151\u001b[0m     \u001b[38;5;28;01mif\u001b[39;00m level \u001b[38;5;241m>\u001b[39m \u001b[38;5;241m0\u001b[39m:\n",
      "File \u001b[1;32m~\\Anaconda3\\envs\\llm\\lib\\site-packages\\llama_index\\node_parser\\interface.py:56\u001b[0m, in \u001b[0;36mNodeParser.get_nodes_from_documents\u001b[1;34m(self, documents, show_progress, **kwargs)\u001b[0m\n\u001b[0;32m     43\u001b[0m \u001b[38;5;28;01mdef\u001b[39;00m \u001b[38;5;21mget_nodes_from_documents\u001b[39m(\n\u001b[0;32m     44\u001b[0m     \u001b[38;5;28mself\u001b[39m,\n\u001b[0;32m     45\u001b[0m     documents: Sequence[Document],\n\u001b[0;32m     46\u001b[0m     show_progress: \u001b[38;5;28mbool\u001b[39m \u001b[38;5;241m=\u001b[39m \u001b[38;5;28;01mFalse\u001b[39;00m,\n\u001b[0;32m     47\u001b[0m     \u001b[38;5;241m*\u001b[39m\u001b[38;5;241m*\u001b[39mkwargs: Any,\n\u001b[0;32m     48\u001b[0m ) \u001b[38;5;241m-\u001b[39m\u001b[38;5;241m>\u001b[39m List[BaseNode]:\n\u001b[0;32m     49\u001b[0m \u001b[38;5;250m    \u001b[39m\u001b[38;5;124;03m\"\"\"Parse documents into nodes.\u001b[39;00m\n\u001b[0;32m     50\u001b[0m \n\u001b[0;32m     51\u001b[0m \u001b[38;5;124;03m    Args:\u001b[39;00m\n\u001b[1;32m   (...)\u001b[0m\n\u001b[0;32m     54\u001b[0m \n\u001b[0;32m     55\u001b[0m \u001b[38;5;124;03m    \"\"\"\u001b[39;00m\n\u001b[1;32m---> 56\u001b[0m     doc_id_to_document \u001b[38;5;241m=\u001b[39m {doc\u001b[38;5;241m.\u001b[39mid_: doc \u001b[38;5;28;01mfor\u001b[39;00m doc \u001b[38;5;129;01min\u001b[39;00m documents}\n\u001b[0;32m     58\u001b[0m     \u001b[38;5;28;01mwith\u001b[39;00m \u001b[38;5;28mself\u001b[39m\u001b[38;5;241m.\u001b[39mcallback_manager\u001b[38;5;241m.\u001b[39mevent(\n\u001b[0;32m     59\u001b[0m         CBEventType\u001b[38;5;241m.\u001b[39mNODE_PARSING, payload\u001b[38;5;241m=\u001b[39m{EventPayload\u001b[38;5;241m.\u001b[39mDOCUMENTS: documents}\n\u001b[0;32m     60\u001b[0m     ) \u001b[38;5;28;01mas\u001b[39;00m event:\n\u001b[0;32m     61\u001b[0m         nodes \u001b[38;5;241m=\u001b[39m \u001b[38;5;28mself\u001b[39m\u001b[38;5;241m.\u001b[39m_parse_nodes(documents, show_progress\u001b[38;5;241m=\u001b[39mshow_progress, \u001b[38;5;241m*\u001b[39m\u001b[38;5;241m*\u001b[39mkwargs)\n",
      "File \u001b[1;32m~\\Anaconda3\\envs\\llm\\lib\\site-packages\\llama_index\\node_parser\\interface.py:56\u001b[0m, in \u001b[0;36m<dictcomp>\u001b[1;34m(.0)\u001b[0m\n\u001b[0;32m     43\u001b[0m \u001b[38;5;28;01mdef\u001b[39;00m \u001b[38;5;21mget_nodes_from_documents\u001b[39m(\n\u001b[0;32m     44\u001b[0m     \u001b[38;5;28mself\u001b[39m,\n\u001b[0;32m     45\u001b[0m     documents: Sequence[Document],\n\u001b[0;32m     46\u001b[0m     show_progress: \u001b[38;5;28mbool\u001b[39m \u001b[38;5;241m=\u001b[39m \u001b[38;5;28;01mFalse\u001b[39;00m,\n\u001b[0;32m     47\u001b[0m     \u001b[38;5;241m*\u001b[39m\u001b[38;5;241m*\u001b[39mkwargs: Any,\n\u001b[0;32m     48\u001b[0m ) \u001b[38;5;241m-\u001b[39m\u001b[38;5;241m>\u001b[39m List[BaseNode]:\n\u001b[0;32m     49\u001b[0m \u001b[38;5;250m    \u001b[39m\u001b[38;5;124;03m\"\"\"Parse documents into nodes.\u001b[39;00m\n\u001b[0;32m     50\u001b[0m \n\u001b[0;32m     51\u001b[0m \u001b[38;5;124;03m    Args:\u001b[39;00m\n\u001b[1;32m   (...)\u001b[0m\n\u001b[0;32m     54\u001b[0m \n\u001b[0;32m     55\u001b[0m \u001b[38;5;124;03m    \"\"\"\u001b[39;00m\n\u001b[1;32m---> 56\u001b[0m     doc_id_to_document \u001b[38;5;241m=\u001b[39m {\u001b[43mdoc\u001b[49m\u001b[38;5;241;43m.\u001b[39;49m\u001b[43mid_\u001b[49m: doc \u001b[38;5;28;01mfor\u001b[39;00m doc \u001b[38;5;129;01min\u001b[39;00m documents}\n\u001b[0;32m     58\u001b[0m     \u001b[38;5;28;01mwith\u001b[39;00m \u001b[38;5;28mself\u001b[39m\u001b[38;5;241m.\u001b[39mcallback_manager\u001b[38;5;241m.\u001b[39mevent(\n\u001b[0;32m     59\u001b[0m         CBEventType\u001b[38;5;241m.\u001b[39mNODE_PARSING, payload\u001b[38;5;241m=\u001b[39m{EventPayload\u001b[38;5;241m.\u001b[39mDOCUMENTS: documents}\n\u001b[0;32m     60\u001b[0m     ) \u001b[38;5;28;01mas\u001b[39;00m event:\n\u001b[0;32m     61\u001b[0m         nodes \u001b[38;5;241m=\u001b[39m \u001b[38;5;28mself\u001b[39m\u001b[38;5;241m.\u001b[39m_parse_nodes(documents, show_progress\u001b[38;5;241m=\u001b[39mshow_progress, \u001b[38;5;241m*\u001b[39m\u001b[38;5;241m*\u001b[39mkwargs)\n",
      "\u001b[1;31mAttributeError\u001b[0m: 'tuple' object has no attribute 'id_'"
     ]
    }
   ],
   "source": [
    "from utils_trulens import build_automerging_index\n",
    "\n",
    "automerging_index = build_automerging_index(\n",
    "        doc,\n",
    "        llm,\n",
    "        embed_model=\"local:BAAI/bge-small-en-v1.5\",\n",
    "        save_dir=\"merging_index\"\n",
    "        )"
   ]
  },
  {
   "cell_type": "code",
   "execution_count": null,
   "id": "c199e08f-06e2-4145-b754-8fcfd15e9eed",
   "metadata": {},
   "outputs": [],
   "source": [
    "from utils_trulens import get_automerging_query_engine\n",
    "automerging_query_engine = get_automerging_query_engine(\n",
    "    automerging_index\n",
    ")"
   ]
  },
  {
   "cell_type": "code",
   "execution_count": null,
   "id": "4ca21b4b-fc98-4d2e-b85a-0c04eaab25af",
   "metadata": {
    "scrolled": true
   },
   "outputs": [],
   "source": [
    "response = automerging_query_engine .query(\n",
    "    'what was the morale of the story?'\n",
    ")\n",
    "print(str(response))"
   ]
  },
  {
   "cell_type": "code",
   "execution_count": 52,
   "id": "6842e795-98b3-4f91-8980-d7d19788710e",
   "metadata": {},
   "outputs": [],
   "source": [
    "tru.reset_database()\n",
    "\n",
    "tru_recorder_automerging = get_prebuilt_trulens_recorder(automerging_query_engine,\n",
    "                                                         app_id=\"Automerging Query Engine\")"
   ]
  },
  {
   "cell_type": "code",
   "execution_count": 53,
   "id": "2a06d719-3de8-43dd-83b7-4e0309fe839c",
   "metadata": {},
   "outputs": [
    {
     "name": "stderr",
     "output_type": "stream",
     "text": [
      "A new object of type <class 'llama_index.query_engine.retriever_query_engine.RetrieverQueryEngine'> at 0x207d7429750 is calling an instrumented method <function BaseQueryEngine.query at 0x00000207BBFB3130>. The path of this call may be incorrect.\n",
      "Guessing path of new object is app based on other object (0x207b7683370) using this function.\n",
      "A new object of type <class 'llama_index.query_engine.retriever_query_engine.RetrieverQueryEngine'> at 0x207d7429750 is calling an instrumented method <function RetrieverQueryEngine.retrieve at 0x00000207BF87A7A0>. The path of this call may be incorrect.\n",
      "Guessing path of new object is app based on other object (0x207b7683370) using this function.\n",
      "A new object of type <class 'llama_index.retrievers.auto_merging_retriever.AutoMergingRetriever'> at 0x207d7514910 is calling an instrumented method <function BaseRetriever.retrieve at 0x00000207BBFB23B0>. The path of this call may be incorrect.\n",
      "Guessing path of new object is app.retriever based on other object (0x207b7683e20) using this function.\n",
      "A new object of type <class 'llama_index.indices.vector_store.retrievers.retriever.VectorIndexRetriever'> at 0x207d7551f60 is calling an instrumented method <function BaseRetriever.retrieve at 0x00000207BBFB23B0>. The path of this call may be incorrect.\n",
      "Guessing path of new object is app.retriever based on other object (0x207b7683e20) using this function.\n",
      "A new object of type <class 'llama_index.vector_stores.simple.SimpleVectorStore'> at 0x207d756a350 is calling an instrumented method <function SimpleVectorStore.query at 0x00000207BCC7E7A0>. The path of this call may be incorrect.\n",
      "Guessing path of new object is app.retriever._index.storage_context.vector_stores.default based on other object (0x207cf298d00) using this function.\n"
     ]
    },
    {
     "name": "stdout",
     "output_type": "stream",
     "text": [
      "> Merging 5 nodes into parent node.\n",
      "> Parent node id: 374b0bb9-3339-43c0-904e-5eff4ace2d9a.\n",
      "> Parent node text: www.scholastic.co.ukhttp://www.scholastic.co.uk/\n",
      "Fairytale Kingdom\n",
      "The Story of Little Red Riding...\n",
      "\n",
      "> Merging 4 nodes into parent node.\n",
      "> Parent node id: 5e1e21cd-474e-425b-8054-46fc312af0ca.\n",
      "> Parent node text: www.scholastic.co.ukhttp://www.scholastic.co.uk/\n",
      " “Grandma”, gasped Little Red Riding Hood. “What...\n",
      "\n",
      "> Merging 2 nodes into parent node.\n",
      "> Parent node id: d8868ccb-da68-470e-b752-b6544fdbe3fe.\n",
      "> Parent node text: “Let me in, Grandma,” she called merrily. “I have brought you a basket of sweet cherry pies.”\n",
      " “L...\n",
      "\n",
      "> Merging 2 nodes into parent node.\n",
      "> Parent node id: 7cf2567c-9525-419a-8072-d6efb6cf9895.\n",
      "> Parent node text: www.scholastic.co.ukhttp://www.scholastic.co.uk/\n",
      "Fairytale Kingdom\n",
      "The Story of Little Red Riding...\n",
      "\n",
      "> Merging 1 nodes into parent node.\n",
      "> Parent node id: daeae9c7-0679-4091-aabd-c4296e87d252.\n",
      "> Parent node text: www.scholastic.co.ukhttp://www.scholastic.co.uk/\n",
      " “Grandma”, gasped Little Red Riding Hood. “What...\n",
      "\n"
     ]
    },
    {
     "name": "stderr",
     "output_type": "stream",
     "text": [
      "A new object of type <class 'llama_index.response_synthesizers.compact_and_refine.CompactAndRefine'> at 0x207d7428520 is calling an instrumented method <function BaseSynthesizer.synthesize at 0x00000207BCCA5120>. The path of this call may be incorrect.\n",
      "Guessing path of new object is app._response_synthesizer based on other object (0x207b7683790) using this function.\n",
      "A new object of type <class 'llama_index.response_synthesizers.compact_and_refine.CompactAndRefine'> at 0x207d7428520 is calling an instrumented method <function CompactAndRefine.get_response at 0x00000207BCCA4550>. The path of this call may be incorrect.\n",
      "Guessing path of new object is app._response_synthesizer based on other object (0x207b7683790) using this function.\n",
      "A new object of type <class 'llama_index.response_synthesizers.compact_and_refine.CompactAndRefine'> at 0x207d7428520 is calling an instrumented method <function Refine.get_response at 0x00000207BD5F8EE0>. The path of this call may be incorrect.\n",
      "Guessing path of new object is app._response_synthesizer based on other object (0x207b7683790) using this function.\n"
     ]
    },
    {
     "name": "stdout",
     "output_type": "stream",
     "text": [
      "What is the name of the main character?\n",
      "The main character's name is Little Red Riding Hood.\n"
     ]
    },
    {
     "name": "stderr",
     "output_type": "stream",
     "text": [
      "A new object of type <class 'llama_index.query_engine.retriever_query_engine.RetrieverQueryEngine'> at 0x207d7429750 is calling an instrumented method <function RetrieverQueryEngine.retrieve at 0x00000207BF87A7A0>. The path of this call may be incorrect.\n",
      "Guessing path of new object is app based on other object (0x207b7683370) using this function.\n"
     ]
    },
    {
     "name": "stdout",
     "output_type": "stream",
     "text": [
      "> Merging 5 nodes into parent node.\n",
      "> Parent node id: 374b0bb9-3339-43c0-904e-5eff4ace2d9a.\n",
      "> Parent node text: www.scholastic.co.ukhttp://www.scholastic.co.uk/\n",
      "Fairytale Kingdom\n",
      "The Story of Little Red Riding...\n",
      "\n",
      "> Merging 4 nodes into parent node.\n",
      "> Parent node id: 5e1e21cd-474e-425b-8054-46fc312af0ca.\n",
      "> Parent node text: www.scholastic.co.ukhttp://www.scholastic.co.uk/\n",
      " “Grandma”, gasped Little Red Riding Hood. “What...\n",
      "\n",
      "> Merging 2 nodes into parent node.\n",
      "> Parent node id: d8868ccb-da68-470e-b752-b6544fdbe3fe.\n",
      "> Parent node text: “Let me in, Grandma,” she called merrily. “I have brought you a basket of sweet cherry pies.”\n",
      " “L...\n",
      "\n",
      "> Merging 2 nodes into parent node.\n",
      "> Parent node id: 7cf2567c-9525-419a-8072-d6efb6cf9895.\n",
      "> Parent node text: www.scholastic.co.ukhttp://www.scholastic.co.uk/\n",
      "Fairytale Kingdom\n",
      "The Story of Little Red Riding...\n",
      "\n",
      "> Merging 1 nodes into parent node.\n",
      "> Parent node id: daeae9c7-0679-4091-aabd-c4296e87d252.\n",
      "> Parent node text: www.scholastic.co.ukhttp://www.scholastic.co.uk/\n",
      " “Grandma”, gasped Little Red Riding Hood. “What...\n",
      "\n"
     ]
    },
    {
     "name": "stderr",
     "output_type": "stream",
     "text": [
      "A new object of type <class 'llama_index.response_synthesizers.compact_and_refine.CompactAndRefine'> at 0x207d7428520 is calling an instrumented method <function CompactAndRefine.get_response at 0x00000207BCCA4550>. The path of this call may be incorrect.\n",
      "Guessing path of new object is app._response_synthesizer based on other object (0x207b7683790) using this function.\n",
      "A new object of type <class 'llama_index.response_synthesizers.compact_and_refine.CompactAndRefine'> at 0x207d7428520 is calling an instrumented method <function Refine.get_response at 0x00000207BD5F8EE0>. The path of this call may be incorrect.\n",
      "Guessing path of new object is app._response_synthesizer based on other object (0x207b7683790) using this function.\n"
     ]
    },
    {
     "name": "stdout",
     "output_type": "stream",
     "text": [
      "What was in Red Riding Hood basket?\n",
      "Sweet cherry pies were in Red Riding Hood's basket.\n"
     ]
    },
    {
     "name": "stderr",
     "output_type": "stream",
     "text": [
      "A new object of type <class 'llama_index.query_engine.retriever_query_engine.RetrieverQueryEngine'> at 0x207d7429750 is calling an instrumented method <function RetrieverQueryEngine.retrieve at 0x00000207BF87A7A0>. The path of this call may be incorrect.\n",
      "Guessing path of new object is app based on other object (0x207b7683370) using this function.\n"
     ]
    },
    {
     "name": "stdout",
     "output_type": "stream",
     "text": [
      "> Merging 5 nodes into parent node.\n",
      "> Parent node id: 374b0bb9-3339-43c0-904e-5eff4ace2d9a.\n",
      "> Parent node text: www.scholastic.co.ukhttp://www.scholastic.co.uk/\n",
      "Fairytale Kingdom\n",
      "The Story of Little Red Riding...\n",
      "\n",
      "> Merging 4 nodes into parent node.\n",
      "> Parent node id: 5e1e21cd-474e-425b-8054-46fc312af0ca.\n",
      "> Parent node text: www.scholastic.co.ukhttp://www.scholastic.co.uk/\n",
      " “Grandma”, gasped Little Red Riding Hood. “What...\n",
      "\n",
      "> Merging 2 nodes into parent node.\n",
      "> Parent node id: d8868ccb-da68-470e-b752-b6544fdbe3fe.\n",
      "> Parent node text: “Let me in, Grandma,” she called merrily. “I have brought you a basket of sweet cherry pies.”\n",
      " “L...\n",
      "\n",
      "> Merging 2 nodes into parent node.\n",
      "> Parent node id: 7cf2567c-9525-419a-8072-d6efb6cf9895.\n",
      "> Parent node text: www.scholastic.co.ukhttp://www.scholastic.co.uk/\n",
      "Fairytale Kingdom\n",
      "The Story of Little Red Riding...\n",
      "\n",
      "> Merging 1 nodes into parent node.\n",
      "> Parent node id: daeae9c7-0679-4091-aabd-c4296e87d252.\n",
      "> Parent node text: www.scholastic.co.ukhttp://www.scholastic.co.uk/\n",
      " “Grandma”, gasped Little Red Riding Hood. “What...\n",
      "\n"
     ]
    },
    {
     "name": "stderr",
     "output_type": "stream",
     "text": [
      "A new object of type <class 'llama_index.response_synthesizers.compact_and_refine.CompactAndRefine'> at 0x207d7428520 is calling an instrumented method <function CompactAndRefine.get_response at 0x00000207BCCA4550>. The path of this call may be incorrect.\n",
      "Guessing path of new object is app._response_synthesizer based on other object (0x207b7683790) using this function.\n",
      "A new object of type <class 'llama_index.response_synthesizers.compact_and_refine.CompactAndRefine'> at 0x207d7428520 is calling an instrumented method <function Refine.get_response at 0x00000207BD5F8EE0>. The path of this call may be incorrect.\n",
      "Guessing path of new object is app._response_synthesizer based on other object (0x207b7683790) using this function.\n"
     ]
    },
    {
     "name": "stdout",
     "output_type": "stream",
     "text": [
      "Whom did Red Riding Hood went to visit?\n",
      "Red Riding Hood went to visit her Grandma.\n"
     ]
    },
    {
     "name": "stderr",
     "output_type": "stream",
     "text": [
      "A new object of type <class 'llama_index.query_engine.retriever_query_engine.RetrieverQueryEngine'> at 0x207d7429750 is calling an instrumented method <function RetrieverQueryEngine.retrieve at 0x00000207BF87A7A0>. The path of this call may be incorrect.\n",
      "Guessing path of new object is app based on other object (0x207b7683370) using this function.\n"
     ]
    },
    {
     "name": "stdout",
     "output_type": "stream",
     "text": [
      "> Merging 5 nodes into parent node.\n",
      "> Parent node id: 374b0bb9-3339-43c0-904e-5eff4ace2d9a.\n",
      "> Parent node text: www.scholastic.co.ukhttp://www.scholastic.co.uk/\n",
      "Fairytale Kingdom\n",
      "The Story of Little Red Riding...\n",
      "\n",
      "> Merging 2 nodes into parent node.\n",
      "> Parent node id: d8868ccb-da68-470e-b752-b6544fdbe3fe.\n",
      "> Parent node text: “Let me in, Grandma,” she called merrily. “I have brought you a basket of sweet cherry pies.”\n",
      " “L...\n",
      "\n",
      "> Merging 4 nodes into parent node.\n",
      "> Parent node id: 5e1e21cd-474e-425b-8054-46fc312af0ca.\n",
      "> Parent node text: www.scholastic.co.ukhttp://www.scholastic.co.uk/\n",
      " “Grandma”, gasped Little Red Riding Hood. “What...\n",
      "\n",
      "> Merging 2 nodes into parent node.\n",
      "> Parent node id: 7cf2567c-9525-419a-8072-d6efb6cf9895.\n",
      "> Parent node text: www.scholastic.co.ukhttp://www.scholastic.co.uk/\n",
      "Fairytale Kingdom\n",
      "The Story of Little Red Riding...\n",
      "\n",
      "> Merging 1 nodes into parent node.\n",
      "> Parent node id: daeae9c7-0679-4091-aabd-c4296e87d252.\n",
      "> Parent node text: www.scholastic.co.ukhttp://www.scholastic.co.uk/\n",
      " “Grandma”, gasped Little Red Riding Hood. “What...\n",
      "\n"
     ]
    },
    {
     "name": "stderr",
     "output_type": "stream",
     "text": [
      "A new object of type <class 'llama_index.response_synthesizers.compact_and_refine.CompactAndRefine'> at 0x207d7428520 is calling an instrumented method <function CompactAndRefine.get_response at 0x00000207BCCA4550>. The path of this call may be incorrect.\n",
      "Guessing path of new object is app._response_synthesizer based on other object (0x207b7683790) using this function.\n",
      "A new object of type <class 'llama_index.response_synthesizers.compact_and_refine.CompactAndRefine'> at 0x207d7428520 is calling an instrumented method <function Refine.get_response at 0x00000207BD5F8EE0>. The path of this call may be incorrect.\n",
      "Guessing path of new object is app._response_synthesizer based on other object (0x207b7683790) using this function.\n"
     ]
    },
    {
     "name": "stdout",
     "output_type": "stream",
     "text": [
      "Where did the grandma live?\n",
      "The grandma lived at the other end of Long-Lost Wood, in the cottage with a green door.\n"
     ]
    },
    {
     "name": "stderr",
     "output_type": "stream",
     "text": [
      "A new object of type <class 'llama_index.query_engine.retriever_query_engine.RetrieverQueryEngine'> at 0x207d7429750 is calling an instrumented method <function RetrieverQueryEngine.retrieve at 0x00000207BF87A7A0>. The path of this call may be incorrect.\n",
      "Guessing path of new object is app based on other object (0x207b7683370) using this function.\n"
     ]
    },
    {
     "name": "stdout",
     "output_type": "stream",
     "text": [
      "> Merging 4 nodes into parent node.\n",
      "> Parent node id: 5e1e21cd-474e-425b-8054-46fc312af0ca.\n",
      "> Parent node text: www.scholastic.co.ukhttp://www.scholastic.co.uk/\n",
      " “Grandma”, gasped Little Red Riding Hood. “What...\n",
      "\n",
      "> Merging 5 nodes into parent node.\n",
      "> Parent node id: 374b0bb9-3339-43c0-904e-5eff4ace2d9a.\n",
      "> Parent node text: www.scholastic.co.ukhttp://www.scholastic.co.uk/\n",
      "Fairytale Kingdom\n",
      "The Story of Little Red Riding...\n",
      "\n",
      "> Merging 2 nodes into parent node.\n",
      "> Parent node id: d8868ccb-da68-470e-b752-b6544fdbe3fe.\n",
      "> Parent node text: “Let me in, Grandma,” she called merrily. “I have brought you a basket of sweet cherry pies.”\n",
      " “L...\n",
      "\n",
      "> Merging 1 nodes into parent node.\n",
      "> Parent node id: daeae9c7-0679-4091-aabd-c4296e87d252.\n",
      "> Parent node text: www.scholastic.co.ukhttp://www.scholastic.co.uk/\n",
      " “Grandma”, gasped Little Red Riding Hood. “What...\n",
      "\n",
      "> Merging 2 nodes into parent node.\n",
      "> Parent node id: 7cf2567c-9525-419a-8072-d6efb6cf9895.\n",
      "> Parent node text: www.scholastic.co.ukhttp://www.scholastic.co.uk/\n",
      "Fairytale Kingdom\n",
      "The Story of Little Red Riding...\n",
      "\n"
     ]
    },
    {
     "name": "stderr",
     "output_type": "stream",
     "text": [
      "A new object of type <class 'llama_index.response_synthesizers.compact_and_refine.CompactAndRefine'> at 0x207d7428520 is calling an instrumented method <function CompactAndRefine.get_response at 0x00000207BCCA4550>. The path of this call may be incorrect.\n",
      "Guessing path of new object is app._response_synthesizer based on other object (0x207b7683790) using this function.\n",
      "A new object of type <class 'llama_index.response_synthesizers.compact_and_refine.CompactAndRefine'> at 0x207d7428520 is calling an instrumented method <function Refine.get_response at 0x00000207BD5F8EE0>. The path of this call may be incorrect.\n",
      "Guessing path of new object is app._response_synthesizer based on other object (0x207b7683790) using this function.\n"
     ]
    },
    {
     "name": "stdout",
     "output_type": "stream",
     "text": [
      "Who ate the grandma?\n",
      "The Big Bad Wolf ate the grandma.\n"
     ]
    },
    {
     "name": "stderr",
     "output_type": "stream",
     "text": [
      "A new object of type <class 'llama_index.query_engine.retriever_query_engine.RetrieverQueryEngine'> at 0x207d7429750 is calling an instrumented method <function RetrieverQueryEngine.retrieve at 0x00000207BF87A7A0>. The path of this call may be incorrect.\n",
      "Guessing path of new object is app based on other object (0x207b7683370) using this function.\n"
     ]
    },
    {
     "name": "stdout",
     "output_type": "stream",
     "text": [
      "> Merging 5 nodes into parent node.\n",
      "> Parent node id: 374b0bb9-3339-43c0-904e-5eff4ace2d9a.\n",
      "> Parent node text: www.scholastic.co.ukhttp://www.scholastic.co.uk/\n",
      "Fairytale Kingdom\n",
      "The Story of Little Red Riding...\n",
      "\n",
      "> Merging 4 nodes into parent node.\n",
      "> Parent node id: 5e1e21cd-474e-425b-8054-46fc312af0ca.\n",
      "> Parent node text: www.scholastic.co.ukhttp://www.scholastic.co.uk/\n",
      " “Grandma”, gasped Little Red Riding Hood. “What...\n",
      "\n",
      "> Merging 2 nodes into parent node.\n",
      "> Parent node id: d8868ccb-da68-470e-b752-b6544fdbe3fe.\n",
      "> Parent node text: “Let me in, Grandma,” she called merrily. “I have brought you a basket of sweet cherry pies.”\n",
      " “L...\n",
      "\n",
      "> Merging 2 nodes into parent node.\n",
      "> Parent node id: 7cf2567c-9525-419a-8072-d6efb6cf9895.\n",
      "> Parent node text: www.scholastic.co.ukhttp://www.scholastic.co.uk/\n",
      "Fairytale Kingdom\n",
      "The Story of Little Red Riding...\n",
      "\n",
      "> Merging 1 nodes into parent node.\n",
      "> Parent node id: daeae9c7-0679-4091-aabd-c4296e87d252.\n",
      "> Parent node text: www.scholastic.co.ukhttp://www.scholastic.co.uk/\n",
      " “Grandma”, gasped Little Red Riding Hood. “What...\n",
      "\n"
     ]
    },
    {
     "name": "stderr",
     "output_type": "stream",
     "text": [
      "A new object of type <class 'llama_index.response_synthesizers.compact_and_refine.CompactAndRefine'> at 0x207d7428520 is calling an instrumented method <function CompactAndRefine.get_response at 0x00000207BCCA4550>. The path of this call may be incorrect.\n",
      "Guessing path of new object is app._response_synthesizer based on other object (0x207b7683790) using this function.\n",
      "A new object of type <class 'llama_index.response_synthesizers.compact_and_refine.CompactAndRefine'> at 0x207d7428520 is calling an instrumented method <function Refine.get_response at 0x00000207BD5F8EE0>. The path of this call may be incorrect.\n",
      "Guessing path of new object is app._response_synthesizer based on other object (0x207b7683790) using this function.\n"
     ]
    },
    {
     "name": "stdout",
     "output_type": "stream",
     "text": [
      "Who helped Red Riding Hood to rescue the grandma?\n",
      "The Wise Owl helped Red Riding Hood to rescue the grandma.\n"
     ]
    },
    {
     "name": "stderr",
     "output_type": "stream",
     "text": [
      "A new object of type <class 'llama_index.query_engine.retriever_query_engine.RetrieverQueryEngine'> at 0x207d7429750 is calling an instrumented method <function RetrieverQueryEngine.retrieve at 0x00000207BF87A7A0>. The path of this call may be incorrect.\n",
      "Guessing path of new object is app based on other object (0x207b7683370) using this function.\n"
     ]
    },
    {
     "name": "stdout",
     "output_type": "stream",
     "text": [
      "> Merging 4 nodes into parent node.\n",
      "> Parent node id: 5e1e21cd-474e-425b-8054-46fc312af0ca.\n",
      "> Parent node text: www.scholastic.co.ukhttp://www.scholastic.co.uk/\n",
      " “Grandma”, gasped Little Red Riding Hood. “What...\n",
      "\n",
      "> Merging 5 nodes into parent node.\n",
      "> Parent node id: 374b0bb9-3339-43c0-904e-5eff4ace2d9a.\n",
      "> Parent node text: www.scholastic.co.ukhttp://www.scholastic.co.uk/\n",
      "Fairytale Kingdom\n",
      "The Story of Little Red Riding...\n",
      "\n",
      "> Merging 2 nodes into parent node.\n",
      "> Parent node id: d8868ccb-da68-470e-b752-b6544fdbe3fe.\n",
      "> Parent node text: “Let me in, Grandma,” she called merrily. “I have brought you a basket of sweet cherry pies.”\n",
      " “L...\n",
      "\n",
      "> Merging 1 nodes into parent node.\n",
      "> Parent node id: daeae9c7-0679-4091-aabd-c4296e87d252.\n",
      "> Parent node text: www.scholastic.co.ukhttp://www.scholastic.co.uk/\n",
      " “Grandma”, gasped Little Red Riding Hood. “What...\n",
      "\n",
      "> Merging 2 nodes into parent node.\n",
      "> Parent node id: 7cf2567c-9525-419a-8072-d6efb6cf9895.\n",
      "> Parent node text: www.scholastic.co.ukhttp://www.scholastic.co.uk/\n",
      "Fairytale Kingdom\n",
      "The Story of Little Red Riding...\n",
      "\n"
     ]
    },
    {
     "name": "stderr",
     "output_type": "stream",
     "text": [
      "A new object of type <class 'llama_index.response_synthesizers.compact_and_refine.CompactAndRefine'> at 0x207d7428520 is calling an instrumented method <function CompactAndRefine.get_response at 0x00000207BCCA4550>. The path of this call may be incorrect.\n",
      "Guessing path of new object is app._response_synthesizer based on other object (0x207b7683790) using this function.\n",
      "A new object of type <class 'llama_index.response_synthesizers.compact_and_refine.CompactAndRefine'> at 0x207d7428520 is calling an instrumented method <function Refine.get_response at 0x00000207BD5F8EE0>. The path of this call may be incorrect.\n",
      "Guessing path of new object is app._response_synthesizer based on other object (0x207b7683790) using this function.\n"
     ]
    },
    {
     "name": "stdout",
     "output_type": "stream",
     "text": [
      "What happened to the wolf at the end?\n",
      "The wolf was put to sleep by the Storyland Vets and Grandma was found safe and well inside its tummy. However, when the wolf was sewn up again, Grandma's two pointy shoes were accidentally left inside. Now, whenever the wolf feels hungry, the shoes dance and prance, causing him to howl, and he never dreams of eating a grandma again.\n"
     ]
    },
    {
     "name": "stderr",
     "output_type": "stream",
     "text": [
      "A new object of type <class 'llama_index.query_engine.retriever_query_engine.RetrieverQueryEngine'> at 0x207d7429750 is calling an instrumented method <function RetrieverQueryEngine.retrieve at 0x00000207BF87A7A0>. The path of this call may be incorrect.\n",
      "Guessing path of new object is app based on other object (0x207b7683370) using this function.\n"
     ]
    },
    {
     "name": "stdout",
     "output_type": "stream",
     "text": [
      "> Merging 4 nodes into parent node.\n",
      "> Parent node id: 5e1e21cd-474e-425b-8054-46fc312af0ca.\n",
      "> Parent node text: www.scholastic.co.ukhttp://www.scholastic.co.uk/\n",
      " “Grandma”, gasped Little Red Riding Hood. “What...\n",
      "\n",
      "> Merging 2 nodes into parent node.\n",
      "> Parent node id: d8868ccb-da68-470e-b752-b6544fdbe3fe.\n",
      "> Parent node text: “Let me in, Grandma,” she called merrily. “I have brought you a basket of sweet cherry pies.”\n",
      " “L...\n",
      "\n",
      "> Merging 5 nodes into parent node.\n",
      "> Parent node id: 374b0bb9-3339-43c0-904e-5eff4ace2d9a.\n",
      "> Parent node text: www.scholastic.co.ukhttp://www.scholastic.co.uk/\n",
      "Fairytale Kingdom\n",
      "The Story of Little Red Riding...\n",
      "\n",
      "> Merging 1 nodes into parent node.\n",
      "> Parent node id: daeae9c7-0679-4091-aabd-c4296e87d252.\n",
      "> Parent node text: www.scholastic.co.ukhttp://www.scholastic.co.uk/\n",
      " “Grandma”, gasped Little Red Riding Hood. “What...\n",
      "\n",
      "> Merging 2 nodes into parent node.\n",
      "> Parent node id: 7cf2567c-9525-419a-8072-d6efb6cf9895.\n",
      "> Parent node text: www.scholastic.co.ukhttp://www.scholastic.co.uk/\n",
      "Fairytale Kingdom\n",
      "The Story of Little Red Riding...\n",
      "\n"
     ]
    },
    {
     "name": "stderr",
     "output_type": "stream",
     "text": [
      "A new object of type <class 'llama_index.response_synthesizers.compact_and_refine.CompactAndRefine'> at 0x207d7428520 is calling an instrumented method <function CompactAndRefine.get_response at 0x00000207BCCA4550>. The path of this call may be incorrect.\n",
      "Guessing path of new object is app._response_synthesizer based on other object (0x207b7683790) using this function.\n",
      "A new object of type <class 'llama_index.response_synthesizers.compact_and_refine.CompactAndRefine'> at 0x207d7428520 is calling an instrumented method <function Refine.get_response at 0x00000207BD5F8EE0>. The path of this call may be incorrect.\n",
      "Guessing path of new object is app._response_synthesizer based on other object (0x207b7683790) using this function.\n"
     ]
    },
    {
     "name": "stdout",
     "output_type": "stream",
     "text": [
      "what was the morale of the story?\n",
      "The morale of the story is to never stop and speak to the Big Bad Wolf.\n"
     ]
    }
   ],
   "source": [
    "for question in eval_questions:\n",
    "    with tru_recorder_automerging as recording:\n",
    "        response = automerging_query_engine.query(question)\n",
    "        print(question)\n",
    "        print(response)"
   ]
  },
  {
   "cell_type": "code",
   "execution_count": null,
   "id": "3774b20e-fd94-4a44-b8f2-ee70077f133d",
   "metadata": {},
   "outputs": [],
   "source": [
    "tru.get_leaderboard(app_ids=[])"
   ]
  }
 ],
 "metadata": {
  "kernelspec": {
   "display_name": "Python 3 (ipykernel)",
   "language": "python",
   "name": "python3"
  },
  "language_info": {
   "codemirror_mode": {
    "name": "ipython",
    "version": 3
   },
   "file_extension": ".py",
   "mimetype": "text/x-python",
   "name": "python",
   "nbconvert_exporter": "python",
   "pygments_lexer": "ipython3",
   "version": "3.10.13"
  }
 },
 "nbformat": 4,
 "nbformat_minor": 5
}
