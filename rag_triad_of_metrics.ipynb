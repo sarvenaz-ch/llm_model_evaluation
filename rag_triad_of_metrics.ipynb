{
 "cells": [
  {
   "cell_type": "code",
   "execution_count": 1,
   "id": "c3b45a56-618d-4188-8e00-87cbd6088ac4",
   "metadata": {},
   "outputs": [],
   "source": [
    "import os\n",
    "import openai"
   ]
  },
  {
   "cell_type": "code",
   "execution_count": 2,
   "id": "d6e651ac-8774-4da6-b050-471f32216661",
   "metadata": {},
   "outputs": [],
   "source": [
    "from dotenv import load_dotenv\n",
    "load_dotenv()\n",
    "openai.api_key = os.getenv(\"OPENAI_API_KEY\")"
   ]
  },
  {
   "cell_type": "code",
   "execution_count": 3,
   "id": "e0dea72f-a30a-4720-8615-3c3b77775f37",
   "metadata": {},
   "outputs": [],
   "source": [
    "import warnings\n",
    "warnings.filterwarnings('ignore')"
   ]
  },
  {
   "cell_type": "code",
   "execution_count": 4,
   "id": "b4c2e2d3-8c78-4b34-9545-784c18a53fd1",
   "metadata": {},
   "outputs": [
    {
     "name": "stdout",
     "output_type": "stream",
     "text": [
      "🦑 Tru initialized with db url sqlite:///default.sqlite .\n",
      "🛑 Secret keys may be written to the database. See the `database_redact_keys` option of `Tru` to prevent this.\n"
     ]
    }
   ],
   "source": [
    "from trulens_eval import Tru\n",
    "\n",
    "tru = Tru()\n",
    "tru.reset_database() # reset logged tables and logs"
   ]
  },
  {
   "cell_type": "markdown",
   "id": "52a829b7-a70f-435b-98f9-c05afd568fee",
   "metadata": {},
   "source": [
    "# Data"
   ]
  },
  {
   "cell_type": "code",
   "execution_count": 6,
   "id": "7a9b2038-e6ce-4fb3-85f6-49f836428cea",
   "metadata": {},
   "outputs": [],
   "source": [
    "from llama_index import SimpleDirectoryReader\n",
    "\n",
    "docs = SimpleDirectoryReader(\n",
    "    input_files=[\"./eBook-How-to-Build-a-Career-in-AI.pdf\"]\n",
    ").load_data()\n",
    "\n",
    "from llama_index import Document\n",
    "\n",
    "doc = Document(text=\"\\n\\n\".\\\n",
    "                    join([doc.text for doc in docs]))"
   ]
  },
  {
   "cell_type": "markdown",
   "id": "35a35693-c6ca-4fd2-8dd1-5825c8070a61",
   "metadata": {},
   "source": [
    "# Triad of Metrics"
   ]
  },
  {
   "cell_type": "markdown",
   "id": "c60aad09-caf1-4368-b290-5445b4238d38",
   "metadata": {},
   "source": [
    "## Setup"
   ]
  },
  {
   "cell_type": "code",
   "execution_count": 7,
   "id": "ebd94ff5-6e91-4932-9290-020509b3ca23",
   "metadata": {},
   "outputs": [],
   "source": [
    "from utils_triad_of_metrics import build_sentence_window_index\n",
    "\n",
    "from llama_index.llms import OpenAI\n",
    "\n",
    "llm = OpenAI(model=\"gpt-3.5-turbo\", temperature=0.1) \n",
    "\n",
    "# Parser \n",
    "sentence_index = build_sentence_window_index(\n",
    "    doc,\n",
    "    llm,\n",
    "    embed_model=\"local:BAAI/bge-small-en-v1.5\",\n",
    "    save_dir=\"sentence_index\"\n",
    ")"
   ]
  },
  {
   "cell_type": "code",
   "execution_count": 8,
   "id": "2df091b8-f100-480b-ac4d-5a71d30f5408",
   "metadata": {},
   "outputs": [],
   "source": [
    "from utils_triad_of_metrics import get_sentence_window_query_engine\n",
    "\n",
    "sentence_window_engine = get_sentence_window_query_engine(sentence_index)"
   ]
  },
  {
   "cell_type": "code",
   "execution_count": 9,
   "id": "555b0c8d-18f0-4fbf-871f-e4ba58ab5948",
   "metadata": {},
   "outputs": [
    {
     "data": {
      "text/plain": [
       "'To create an AI portfolio, you should showcase your expertise and experience in the field of artificial intelligence. This can include highlighting your knowledge of various AI technologies, programming languages, and algorithms. It is important to demonstrate your ability to develop AI models and solutions, as well as any relevant projects or research you have worked on. Additionally, including any certifications or courses you have completed in AI can help strengthen your portfolio.'"
      ]
     },
     "execution_count": 9,
     "metadata": {},
     "output_type": "execute_result"
    }
   ],
   "source": [
    "response = sentence_window_engine.query(\n",
    "    \"How do you create your AI portfolio?\")\n",
    "response.response"
   ]
  },
  {
   "cell_type": "markdown",
   "id": "308fae8d-e57a-49d8-a28b-d80199830cb1",
   "metadata": {},
   "source": [
    "## Feedback Function"
   ]
  },
  {
   "cell_type": "code",
   "execution_count": 10,
   "id": "c9a1a94f-d252-4fbb-a63f-15a3bf1a4415",
   "metadata": {},
   "outputs": [],
   "source": [
    "import nest_asyncio\n",
    "\n",
    "nest_asyncio.apply() # for app"
   ]
  },
  {
   "cell_type": "code",
   "execution_count": 11,
   "id": "0a25092d-3120-4fab-8060-a49711e50beb",
   "metadata": {},
   "outputs": [],
   "source": [
    "from trulens_eval import OpenAI as fOpenAI\n",
    "\n",
    "provider = fOpenAI() # the model for the evaluator llm"
   ]
  },
  {
   "cell_type": "markdown",
   "id": "a4a0a6e3-6979-4385-8f4d-68baecb1b14b",
   "metadata": {},
   "source": [
    "### Answer Relevance"
   ]
  },
  {
   "cell_type": "code",
   "execution_count": 12,
   "id": "20251f4c-38a6-471e-ab22-b655c10076e8",
   "metadata": {},
   "outputs": [
    {
     "name": "stdout",
     "output_type": "stream",
     "text": [
      "✅ In Answer Relevance, input prompt will be set to __record__.main_input or `Select.RecordInput` .\n",
      "✅ In Answer Relevance, input response will be set to __record__.main_output or `Select.RecordOutput` .\n"
     ]
    }
   ],
   "source": [
    "from trulens_eval import Feedback\n",
    "\n",
    "f_qa_relevance = Feedback(\n",
    "    provider.relevance_with_cot_reasons,\n",
    "    name=\"Answer Relevance\"\n",
    ").on_input().on_output()"
   ]
  },
  {
   "cell_type": "markdown",
   "id": "296eb576-ff08-496b-9e40-3adff976b8d5",
   "metadata": {},
   "source": [
    "### Context Relevance"
   ]
  },
  {
   "cell_type": "code",
   "execution_count": 13,
   "id": "af86731f-d1d5-4a00-9c05-42c35b3aa094",
   "metadata": {},
   "outputs": [],
   "source": [
    "from trulens_eval import TruLlama\n",
    "context_selection = TruLlama.select_source_nodes().node.text"
   ]
  },
  {
   "cell_type": "code",
   "execution_count": 14,
   "id": "577e3795-7c08-4aa2-b8c6-7b8d8e66b7ba",
   "metadata": {},
   "outputs": [],
   "source": [
    "import numpy as np"
   ]
  },
  {
   "cell_type": "code",
   "execution_count": 15,
   "id": "ddb6d1e6-17b4-4863-826b-5824c0cd762c",
   "metadata": {},
   "outputs": [
    {
     "name": "stdout",
     "output_type": "stream",
     "text": [
      "✅ In Context Relevance, input prompt will be set to __record__.main_input or `Select.RecordInput` .\n",
      "✅ In Context Relevance, input response will be set to __record__.app.query.rets.source_nodes[:].node.text .\n"
     ]
    }
   ],
   "source": [
    "f_qs_relevance = Feedback(\n",
    "    provider.relevance_with_cot_reasons,\n",
    "    name = \"Context Relevance\",\n",
    ").on_input().on(context_selection).aggregate(np.mean)"
   ]
  },
  {
   "cell_type": "markdown",
   "id": "ccee6c6e-6130-4e93-a224-d4348a4ab9fa",
   "metadata": {},
   "source": [
    "### Groundedness"
   ]
  },
  {
   "cell_type": "code",
   "execution_count": 16,
   "id": "22fd4515-26e4-4092-8af6-0ee413660058",
   "metadata": {},
   "outputs": [],
   "source": [
    "from trulens_eval.feedback import Groundedness\n",
    "grounded = Groundedness(groundedness_provider = provider)"
   ]
  },
  {
   "cell_type": "code",
   "execution_count": 17,
   "id": "ba56e9d9-33dc-4db0-8752-aaa441bd6aa2",
   "metadata": {},
   "outputs": [
    {
     "name": "stdout",
     "output_type": "stream",
     "text": [
      "✅ In Groundedness, input source will be set to __record__.app.query.rets.source_nodes[:].node.text .\n",
      "✅ In Groundedness, input statement will be set to __record__.main_output or `Select.RecordOutput` .\n"
     ]
    }
   ],
   "source": [
    "f_groundedness = (\n",
    "    Feedback(grounded.groundedness_measure_with_cot_reasons,\n",
    "             name=\"Groundedness\"\n",
    "            )\n",
    "    .on(context_selection)\n",
    "    .on_output()\n",
    "    .aggregate(grounded.grounded_statements_aggregator)\n",
    ")"
   ]
  },
  {
   "cell_type": "code",
   "execution_count": 18,
   "id": "d3230dd4-608c-4099-bff0-3ce03ab8c175",
   "metadata": {},
   "outputs": [],
   "source": [
    "from trulens_eval import TruLlama\n",
    "from trulens_eval import FeedbackMode\n",
    "\n",
    "tru_recorder = TruLlama(\n",
    "    sentence_window_engine,\n",
    "    app_id=\"App_1\",\n",
    "    feedbacks=[\n",
    "        f_qa_relevance,\n",
    "        f_qs_relevance,\n",
    "        f_groundedness\n",
    "    ]\n",
    ")"
   ]
  },
  {
   "cell_type": "code",
   "execution_count": 19,
   "id": "eafbdafa-6da0-409c-8b51-b2792bf4dce1",
   "metadata": {},
   "outputs": [],
   "source": [
    "eval_questions = []\n",
    "with open('eval_questions_careerinAI.txt', 'r') as file:\n",
    "    for line in file:\n",
    "        # Remove newline character and convert to integer\n",
    "        item = line.strip()\n",
    "        eval_questions.append(item)"
   ]
  },
  {
   "cell_type": "code",
   "execution_count": null,
   "id": "19c2e555-a5cb-4929-a48f-7c392c597e50",
   "metadata": {},
   "outputs": [],
   "source": [
    "for question in eval_questions:\n",
    "    with tru_recorder as recording:\n",
    "        sentence_window_engine.query(question)"
   ]
  },
  {
   "cell_type": "code",
   "execution_count": null,
   "id": "78c03594-e207-4c32-8c06-6b8f03a62a78",
   "metadata": {},
   "outputs": [],
   "source": [
    "import pandas as pd\n",
    "\n",
    "pd.set_option(\"display.max_colwidth\", None)\n",
    "records[[\"input\", \"output\"] + feedback]"
   ]
  },
  {
   "cell_type": "code",
   "execution_count": null,
   "id": "181e1e66-30f7-4c11-9d78-be229bfb47b4",
   "metadata": {},
   "outputs": [],
   "source": [
    "records, feedback = tru.get_records_and_feedback(app_ids=[])\n",
    "records.head()"
   ]
  },
  {
   "cell_type": "code",
   "execution_count": null,
   "id": "34aa5ebd-7556-423b-baf9-42c5f11e9290",
   "metadata": {},
   "outputs": [],
   "source": [
    "tru.get_leaderboard(app_ids=[])"
   ]
  },
  {
   "cell_type": "code",
   "execution_count": null,
   "id": "d5ed2e77-8f71-4116-ae4b-b019764052f4",
   "metadata": {},
   "outputs": [],
   "source": [
    "tru.run_dashboard()"
   ]
  }
 ],
 "metadata": {
  "kernelspec": {
   "display_name": "Python 3 (ipykernel)",
   "language": "python",
   "name": "python3"
  },
  "language_info": {
   "codemirror_mode": {
    "name": "ipython",
    "version": 3
   },
   "file_extension": ".py",
   "mimetype": "text/x-python",
   "name": "python",
   "nbconvert_exporter": "python",
   "pygments_lexer": "ipython3",
   "version": "3.10.13"
  }
 },
 "nbformat": 4,
 "nbformat_minor": 5
}
